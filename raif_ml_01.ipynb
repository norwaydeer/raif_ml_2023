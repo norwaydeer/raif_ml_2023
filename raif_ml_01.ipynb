{
  "cells": [
    {
      "cell_type": "markdown",
      "metadata": {
        "id": "QUUXhGgZnLFW"
      },
      "source": [
        "<div class=\"alert alert-info\">\n",
        "    \n",
        "# Исследование данных клиентов\n",
        "\n",
        "Задача: различным характеристикам клиентов спрогнозировать целевую переменную - открыл ли клиент вклад на предложенных ему условиях или нет.\n",
        "\n",
        "Целевая переменная\n",
        "deposit - has the client subscribed a term deposit? (binary: 'yes','no')\n",
        "\n",
        "Описание данных:  \n",
        "    \n",
        "age: количество полных лет  \n",
        "job: тип занимаемой должности  \n",
        "marital: семейное положение    \n",
        "education: образование\n",
        "default: имеется ли любой вид кредитования?  \n",
        "housing: имеется ли ипотека?    \n",
        "loan: имеется ли персональный кредит?  \n",
        "contact: вид контакта с клиентом   \n",
        "month: в каком месяце было сделано предыдущее предложение    \n",
        "day: день месяца было предыдущее предложение   \n",
        "duration: продолжительность предыдущего общения в секундах.  \n",
        "campaign: количество контактов по этой маркетинговой кампании с этим клиентов    \n",
        "pdays: количество дней, прошедших с предыдущего предложения(999 означает, что раньше не предлагали)    \n",
        "previous: количество контактов с этим лиентов в другие маркетинговые кампании  \n",
        "poutcome: результат предыдущего предложения   \n",
        "balance: закодированное название личной числовой характеристики клиента  \n",
        "\n"
      ]
    },
    {
      "cell_type": "markdown",
      "metadata": {
        "id": "z2LK4txVnLFa"
      },
      "source": [
        "<div class=\"alert alert-info\">\n",
        "    \n",
        "## Изучение данных из файла"
      ]
    },
    {
      "cell_type": "code",
      "execution_count": null,
      "metadata": {
        "id": "CcHX--6enLFc"
      },
      "outputs": [],
      "source": [
        "import pandas as pd\n",
        "import math\n",
        "#import calendar\n",
        "import numpy as np\n",
        "import datetime\n",
        "\n",
        "import warnings\n",
        "warnings.filterwarnings(\"ignore\")"
      ]
    },
    {
      "cell_type": "markdown",
      "source": [
        "Подключаемся к БД и загружаем данные"
      ],
      "metadata": {
        "id": "9PQ0WHd4nX7A"
      }
    },
    {
      "cell_type": "code",
      "execution_count": null,
      "metadata": {
        "colab": {
          "base_uri": "https://localhost:8080/"
        },
        "id": "FNUZihfFnLFe",
        "outputId": "8da57cdc-c98c-4afb-9ea1-8fcc672a47c4"
      },
      "outputs": [
        {
          "output_type": "stream",
          "name": "stdout",
          "text": [
            "--2023-05-24 16:35:00--  https://storage.yandexcloud.net/cloud-certs/CA.pem\n",
            "Resolving storage.yandexcloud.net (storage.yandexcloud.net)... 213.180.193.243, 2a02:6b8::1d9\n",
            "Connecting to storage.yandexcloud.net (storage.yandexcloud.net)|213.180.193.243|:443... connected.\n",
            "HTTP request sent, awaiting response... 200 OK\n",
            "Length: 3579 (3.5K) [application/x-x509-ca-cert]\n",
            "Saving to: ‘/root/.postgresql/root.crt’\n",
            "\n",
            "/root/.postgresql/r 100%[===================>]   3.50K  --.-KB/s    in 0s      \n",
            "\n",
            "2023-05-24 16:35:01 (472 MB/s) - ‘/root/.postgresql/root.crt’ saved [3579/3579]\n",
            "\n"
          ]
        }
      ],
      "source": [
        "!mkdir -p ~/.postgresql && \\\n",
        "wget \"https://storage.yandexcloud.net/cloud-certs/CA.pem\" \\\n",
        "    --output-document ~/.postgresql/root.crt && \\\n",
        "chmod 0600 ~/.postgresql/root.crt"
      ]
    },
    {
      "cell_type": "code",
      "source": [
        "!sudo apt update && sudo apt install --yes python3 python3-pip && \\\n",
        "!pip3 install psycopg2-binary"
      ],
      "metadata": {
        "colab": {
          "base_uri": "https://localhost:8080/"
        },
        "id": "wbLwgt2gnV_A",
        "outputId": "c70cd647-fde5-48df-8150-abb8a0922237"
      },
      "execution_count": null,
      "outputs": [
        {
          "output_type": "stream",
          "name": "stdout",
          "text": [
            "\u001b[33m\r0% [Working]\u001b[0m\r            \rGet:1 https://cloud.r-project.org/bin/linux/ubuntu focal-cran40/ InRelease [3,622 B]\n",
            "\u001b[33m\r0% [Waiting for headers] [Connecting to security.ubuntu.com (185.125.190.39)] [\u001b[0m\u001b[33m\r0% [Waiting for headers] [Connecting to security.ubuntu.com (185.125.190.39)] [\u001b[0m\r                                                                               \rHit:2 https://developer.download.nvidia.com/compute/cuda/repos/ubuntu2004/x86_64  InRelease\n",
            "Hit:3 http://archive.ubuntu.com/ubuntu focal InRelease\n",
            "Get:4 http://archive.ubuntu.com/ubuntu focal-updates InRelease [114 kB]\n",
            "Hit:5 http://ppa.launchpad.net/c2d4u.team/c2d4u4.0+/ubuntu focal InRelease\n",
            "Get:6 http://security.ubuntu.com/ubuntu focal-security InRelease [114 kB]\n",
            "Hit:7 http://ppa.launchpad.net/cran/libgit2/ubuntu focal InRelease\n",
            "Get:8 http://archive.ubuntu.com/ubuntu focal-backports InRelease [108 kB]\n",
            "Get:9 http://ppa.launchpad.net/deadsnakes/ppa/ubuntu focal InRelease [18.1 kB]\n",
            "Get:10 http://archive.ubuntu.com/ubuntu focal-updates/main amd64 Packages [3,202 kB]\n",
            "Get:11 http://security.ubuntu.com/ubuntu focal-security/restricted amd64 Packages [2,270 kB]\n",
            "Hit:12 http://ppa.launchpad.net/graphics-drivers/ppa/ubuntu focal InRelease\n",
            "Hit:13 http://ppa.launchpad.net/ubuntugis/ppa/ubuntu focal InRelease\n",
            "Get:14 http://ppa.launchpad.net/deadsnakes/ppa/ubuntu focal/main amd64 Packages [29.5 kB]\n",
            "Get:15 http://security.ubuntu.com/ubuntu focal-security/universe amd64 Packages [1,051 kB]\n",
            "Get:16 http://security.ubuntu.com/ubuntu focal-security/main amd64 Packages [2,726 kB]\n",
            "Get:17 http://archive.ubuntu.com/ubuntu focal-updates/universe amd64 Packages [1,345 kB]\n",
            "Get:18 http://archive.ubuntu.com/ubuntu focal-backports/main amd64 Packages [55.2 kB]\n",
            "Get:19 http://archive.ubuntu.com/ubuntu focal-backports/universe amd64 Packages [28.6 kB]\n",
            "Fetched 11.1 MB in 11s (966 kB/s)\n",
            "Reading package lists... Done\n",
            "Building dependency tree       \n",
            "Reading state information... Done\n",
            "42 packages can be upgraded. Run 'apt list --upgradable' to see them.\n",
            "Reading package lists... Done\n",
            "Building dependency tree       \n",
            "Reading state information... Done\n",
            "python3 is already the newest version (3.8.2-0ubuntu2).\n",
            "python3 set to manually installed.\n",
            "The following additional packages will be installed:\n",
            "  python-pip-whl python3-setuptools python3-wheel\n",
            "Suggested packages:\n",
            "  python-setuptools-doc\n",
            "The following NEW packages will be installed:\n",
            "  python-pip-whl python3-pip python3-setuptools python3-wheel\n",
            "0 upgraded, 4 newly installed, 0 to remove and 42 not upgraded.\n",
            "Need to get 2,389 kB of archives.\n",
            "After this operation, 4,933 kB of additional disk space will be used.\n",
            "Get:1 http://archive.ubuntu.com/ubuntu focal-updates/universe amd64 python-pip-whl all 20.0.2-5ubuntu1.8 [1,805 kB]\n",
            "Get:2 http://archive.ubuntu.com/ubuntu focal-updates/main amd64 python3-setuptools all 45.2.0-1ubuntu0.1 [330 kB]\n",
            "Get:3 http://archive.ubuntu.com/ubuntu focal-updates/universe amd64 python3-wheel all 0.34.2-1ubuntu0.1 [23.9 kB]\n",
            "Get:4 http://archive.ubuntu.com/ubuntu focal-updates/universe amd64 python3-pip all 20.0.2-5ubuntu1.8 [231 kB]\n",
            "Fetched 2,389 kB in 5s (520 kB/s)\n",
            "debconf: unable to initialize frontend: Dialog\n",
            "debconf: (No usable dialog-like program is installed, so the dialog based frontend cannot be used. at /usr/share/perl5/Debconf/FrontEnd/Dialog.pm line 76, <> line 4.)\n",
            "debconf: falling back to frontend: Readline\n",
            "debconf: unable to initialize frontend: Readline\n",
            "debconf: (This frontend requires a controlling tty.)\n",
            "debconf: falling back to frontend: Teletype\n",
            "dpkg-preconfigure: unable to re-open stdin: \n",
            "Selecting previously unselected package python-pip-whl.\n",
            "(Reading database ... 122532 files and directories currently installed.)\n",
            "Preparing to unpack .../python-pip-whl_20.0.2-5ubuntu1.8_all.deb ...\n",
            "Unpacking python-pip-whl (20.0.2-5ubuntu1.8) ...\n",
            "Selecting previously unselected package python3-setuptools.\n",
            "Preparing to unpack .../python3-setuptools_45.2.0-1ubuntu0.1_all.deb ...\n",
            "Unpacking python3-setuptools (45.2.0-1ubuntu0.1) ...\n",
            "Selecting previously unselected package python3-wheel.\n",
            "Preparing to unpack .../python3-wheel_0.34.2-1ubuntu0.1_all.deb ...\n",
            "Unpacking python3-wheel (0.34.2-1ubuntu0.1) ...\n",
            "Selecting previously unselected package python3-pip.\n",
            "Preparing to unpack .../python3-pip_20.0.2-5ubuntu1.8_all.deb ...\n",
            "Unpacking python3-pip (20.0.2-5ubuntu1.8) ...\n",
            "Setting up python3-setuptools (45.2.0-1ubuntu0.1) ...\n",
            "Setting up python3-wheel (0.34.2-1ubuntu0.1) ...\n",
            "Setting up python-pip-whl (20.0.2-5ubuntu1.8) ...\n",
            "Setting up python3-pip (20.0.2-5ubuntu1.8) ...\n",
            "Processing triggers for man-db (2.9.1-1) ...\n",
            "/bin/bash: !pip3: command not found\n"
          ]
        }
      ]
    },
    {
      "cell_type": "code",
      "source": [
        "import psycopg2\n",
        "\n",
        "conn = psycopg2.connect(\"\"\"\n",
        "    host=rc1b-70q90cunwkzx49mj.mdb.yandexcloud.net\n",
        "    port=6432\n",
        "    sslmode=verify-full\n",
        "    dbname=db_clients\n",
        "    user=mlhs_student\n",
        "    password=mlhs_student\n",
        "    target_session_attrs=read-write\n",
        "\"\"\")"
      ],
      "metadata": {
        "id": "J9EpgXVynl8P"
      },
      "execution_count": null,
      "outputs": []
    },
    {
      "cell_type": "code",
      "execution_count": null,
      "metadata": {
        "id": "_fZ9uRGNnLFg"
      },
      "outputs": [],
      "source": [
        "query = \"SELECT * from public.bank_deposit \"\n",
        "\n",
        "df = pd.read_sql_query(query, conn)\n",
        "\n",
        "conn.close()"
      ]
    },
    {
      "cell_type": "code",
      "execution_count": null,
      "metadata": {
        "colab": {
          "base_uri": "https://localhost:8080/",
          "height": 612
        },
        "id": "odHGd0--nLFi",
        "outputId": "4b0f5833-5eff-4803-9734-b5a5fd084c33"
      },
      "outputs": [
        {
          "output_type": "stream",
          "name": "stdout",
          "text": [
            "<class 'pandas.core.frame.DataFrame'>\n",
            "RangeIndex: 11162 entries, 0 to 11161\n",
            "Data columns (total 17 columns):\n",
            " #   Column     Non-Null Count  Dtype  \n",
            "---  ------     --------------  -----  \n",
            " 0   age        9195 non-null   float64\n",
            " 1   job        11162 non-null  object \n",
            " 2   marital    11162 non-null  object \n",
            " 3   education  11162 non-null  object \n",
            " 4   default    11162 non-null  object \n",
            " 5   balance    11162 non-null  int64  \n",
            " 6   housing    11162 non-null  object \n",
            " 7   loan       11162 non-null  object \n",
            " 8   contact    11162 non-null  object \n",
            " 9   day        11162 non-null  int64  \n",
            " 10  month      11162 non-null  object \n",
            " 11  duration   9664 non-null   float64\n",
            " 12  campaign   11162 non-null  int64  \n",
            " 13  pdays      11162 non-null  int64  \n",
            " 14  previous   11162 non-null  int64  \n",
            " 15  poutcome   11162 non-null  object \n",
            " 16  deposit    11162 non-null  object \n",
            "dtypes: float64(2), int64(5), object(10)\n",
            "memory usage: 1.4+ MB\n"
          ]
        },
        {
          "output_type": "execute_result",
          "data": {
            "text/plain": [
              "    age         job  marital  education default  balance housing loan  \\\n",
              "0  59.0      admin.  married  secondary      no     2343     yes   no   \n",
              "1  55.0    services  married  secondary      no     2476     yes   no   \n",
              "2  41.0  technician  married  secondary      no     1270     yes   no   \n",
              "3  54.0      admin.  married   tertiary      no      184      no   no   \n",
              "4  42.0  management   single   tertiary      no        0     yes  yes   \n",
              "\n",
              "   contact  day month  duration  campaign  pdays  previous poutcome deposit  \n",
              "0  unknown    5   may    1042.0         1     -1         0  unknown     yes  \n",
              "1  unknown    5   may       NaN         1     -1         0  unknown     yes  \n",
              "2  unknown    5   may    1389.0         1     -1         0  unknown     yes  \n",
              "3  unknown    5   may     673.0         2     -1         0  unknown     yes  \n",
              "4  unknown    5   may     562.0         2     -1         0  unknown     yes  "
            ],
            "text/html": [
              "\n",
              "  <div id=\"df-44224768-7944-4ddc-8ccd-3abed194df8e\">\n",
              "    <div class=\"colab-df-container\">\n",
              "      <div>\n",
              "<style scoped>\n",
              "    .dataframe tbody tr th:only-of-type {\n",
              "        vertical-align: middle;\n",
              "    }\n",
              "\n",
              "    .dataframe tbody tr th {\n",
              "        vertical-align: top;\n",
              "    }\n",
              "\n",
              "    .dataframe thead th {\n",
              "        text-align: right;\n",
              "    }\n",
              "</style>\n",
              "<table border=\"1\" class=\"dataframe\">\n",
              "  <thead>\n",
              "    <tr style=\"text-align: right;\">\n",
              "      <th></th>\n",
              "      <th>age</th>\n",
              "      <th>job</th>\n",
              "      <th>marital</th>\n",
              "      <th>education</th>\n",
              "      <th>default</th>\n",
              "      <th>balance</th>\n",
              "      <th>housing</th>\n",
              "      <th>loan</th>\n",
              "      <th>contact</th>\n",
              "      <th>day</th>\n",
              "      <th>month</th>\n",
              "      <th>duration</th>\n",
              "      <th>campaign</th>\n",
              "      <th>pdays</th>\n",
              "      <th>previous</th>\n",
              "      <th>poutcome</th>\n",
              "      <th>deposit</th>\n",
              "    </tr>\n",
              "  </thead>\n",
              "  <tbody>\n",
              "    <tr>\n",
              "      <th>0</th>\n",
              "      <td>59.0</td>\n",
              "      <td>admin.</td>\n",
              "      <td>married</td>\n",
              "      <td>secondary</td>\n",
              "      <td>no</td>\n",
              "      <td>2343</td>\n",
              "      <td>yes</td>\n",
              "      <td>no</td>\n",
              "      <td>unknown</td>\n",
              "      <td>5</td>\n",
              "      <td>may</td>\n",
              "      <td>1042.0</td>\n",
              "      <td>1</td>\n",
              "      <td>-1</td>\n",
              "      <td>0</td>\n",
              "      <td>unknown</td>\n",
              "      <td>yes</td>\n",
              "    </tr>\n",
              "    <tr>\n",
              "      <th>1</th>\n",
              "      <td>55.0</td>\n",
              "      <td>services</td>\n",
              "      <td>married</td>\n",
              "      <td>secondary</td>\n",
              "      <td>no</td>\n",
              "      <td>2476</td>\n",
              "      <td>yes</td>\n",
              "      <td>no</td>\n",
              "      <td>unknown</td>\n",
              "      <td>5</td>\n",
              "      <td>may</td>\n",
              "      <td>NaN</td>\n",
              "      <td>1</td>\n",
              "      <td>-1</td>\n",
              "      <td>0</td>\n",
              "      <td>unknown</td>\n",
              "      <td>yes</td>\n",
              "    </tr>\n",
              "    <tr>\n",
              "      <th>2</th>\n",
              "      <td>41.0</td>\n",
              "      <td>technician</td>\n",
              "      <td>married</td>\n",
              "      <td>secondary</td>\n",
              "      <td>no</td>\n",
              "      <td>1270</td>\n",
              "      <td>yes</td>\n",
              "      <td>no</td>\n",
              "      <td>unknown</td>\n",
              "      <td>5</td>\n",
              "      <td>may</td>\n",
              "      <td>1389.0</td>\n",
              "      <td>1</td>\n",
              "      <td>-1</td>\n",
              "      <td>0</td>\n",
              "      <td>unknown</td>\n",
              "      <td>yes</td>\n",
              "    </tr>\n",
              "    <tr>\n",
              "      <th>3</th>\n",
              "      <td>54.0</td>\n",
              "      <td>admin.</td>\n",
              "      <td>married</td>\n",
              "      <td>tertiary</td>\n",
              "      <td>no</td>\n",
              "      <td>184</td>\n",
              "      <td>no</td>\n",
              "      <td>no</td>\n",
              "      <td>unknown</td>\n",
              "      <td>5</td>\n",
              "      <td>may</td>\n",
              "      <td>673.0</td>\n",
              "      <td>2</td>\n",
              "      <td>-1</td>\n",
              "      <td>0</td>\n",
              "      <td>unknown</td>\n",
              "      <td>yes</td>\n",
              "    </tr>\n",
              "    <tr>\n",
              "      <th>4</th>\n",
              "      <td>42.0</td>\n",
              "      <td>management</td>\n",
              "      <td>single</td>\n",
              "      <td>tertiary</td>\n",
              "      <td>no</td>\n",
              "      <td>0</td>\n",
              "      <td>yes</td>\n",
              "      <td>yes</td>\n",
              "      <td>unknown</td>\n",
              "      <td>5</td>\n",
              "      <td>may</td>\n",
              "      <td>562.0</td>\n",
              "      <td>2</td>\n",
              "      <td>-1</td>\n",
              "      <td>0</td>\n",
              "      <td>unknown</td>\n",
              "      <td>yes</td>\n",
              "    </tr>\n",
              "  </tbody>\n",
              "</table>\n",
              "</div>\n",
              "      <button class=\"colab-df-convert\" onclick=\"convertToInteractive('df-44224768-7944-4ddc-8ccd-3abed194df8e')\"\n",
              "              title=\"Convert this dataframe to an interactive table.\"\n",
              "              style=\"display:none;\">\n",
              "        \n",
              "  <svg xmlns=\"http://www.w3.org/2000/svg\" height=\"24px\"viewBox=\"0 0 24 24\"\n",
              "       width=\"24px\">\n",
              "    <path d=\"M0 0h24v24H0V0z\" fill=\"none\"/>\n",
              "    <path d=\"M18.56 5.44l.94 2.06.94-2.06 2.06-.94-2.06-.94-.94-2.06-.94 2.06-2.06.94zm-11 1L8.5 8.5l.94-2.06 2.06-.94-2.06-.94L8.5 2.5l-.94 2.06-2.06.94zm10 10l.94 2.06.94-2.06 2.06-.94-2.06-.94-.94-2.06-.94 2.06-2.06.94z\"/><path d=\"M17.41 7.96l-1.37-1.37c-.4-.4-.92-.59-1.43-.59-.52 0-1.04.2-1.43.59L10.3 9.45l-7.72 7.72c-.78.78-.78 2.05 0 2.83L4 21.41c.39.39.9.59 1.41.59.51 0 1.02-.2 1.41-.59l7.78-7.78 2.81-2.81c.8-.78.8-2.07 0-2.86zM5.41 20L4 18.59l7.72-7.72 1.47 1.35L5.41 20z\"/>\n",
              "  </svg>\n",
              "      </button>\n",
              "      \n",
              "  <style>\n",
              "    .colab-df-container {\n",
              "      display:flex;\n",
              "      flex-wrap:wrap;\n",
              "      gap: 12px;\n",
              "    }\n",
              "\n",
              "    .colab-df-convert {\n",
              "      background-color: #E8F0FE;\n",
              "      border: none;\n",
              "      border-radius: 50%;\n",
              "      cursor: pointer;\n",
              "      display: none;\n",
              "      fill: #1967D2;\n",
              "      height: 32px;\n",
              "      padding: 0 0 0 0;\n",
              "      width: 32px;\n",
              "    }\n",
              "\n",
              "    .colab-df-convert:hover {\n",
              "      background-color: #E2EBFA;\n",
              "      box-shadow: 0px 1px 2px rgba(60, 64, 67, 0.3), 0px 1px 3px 1px rgba(60, 64, 67, 0.15);\n",
              "      fill: #174EA6;\n",
              "    }\n",
              "\n",
              "    [theme=dark] .colab-df-convert {\n",
              "      background-color: #3B4455;\n",
              "      fill: #D2E3FC;\n",
              "    }\n",
              "\n",
              "    [theme=dark] .colab-df-convert:hover {\n",
              "      background-color: #434B5C;\n",
              "      box-shadow: 0px 1px 3px 1px rgba(0, 0, 0, 0.15);\n",
              "      filter: drop-shadow(0px 1px 2px rgba(0, 0, 0, 0.3));\n",
              "      fill: #FFFFFF;\n",
              "    }\n",
              "  </style>\n",
              "\n",
              "      <script>\n",
              "        const buttonEl =\n",
              "          document.querySelector('#df-44224768-7944-4ddc-8ccd-3abed194df8e button.colab-df-convert');\n",
              "        buttonEl.style.display =\n",
              "          google.colab.kernel.accessAllowed ? 'block' : 'none';\n",
              "\n",
              "        async function convertToInteractive(key) {\n",
              "          const element = document.querySelector('#df-44224768-7944-4ddc-8ccd-3abed194df8e');\n",
              "          const dataTable =\n",
              "            await google.colab.kernel.invokeFunction('convertToInteractive',\n",
              "                                                     [key], {});\n",
              "          if (!dataTable) return;\n",
              "\n",
              "          const docLinkHtml = 'Like what you see? Visit the ' +\n",
              "            '<a target=\"_blank\" href=https://colab.research.google.com/notebooks/data_table.ipynb>data table notebook</a>'\n",
              "            + ' to learn more about interactive tables.';\n",
              "          element.innerHTML = '';\n",
              "          dataTable['output_type'] = 'display_data';\n",
              "          await google.colab.output.renderOutput(dataTable, element);\n",
              "          const docLink = document.createElement('div');\n",
              "          docLink.innerHTML = docLinkHtml;\n",
              "          element.appendChild(docLink);\n",
              "        }\n",
              "      </script>\n",
              "    </div>\n",
              "  </div>\n",
              "  "
            ]
          },
          "metadata": {},
          "execution_count": 93
        }
      ],
      "source": [
        "df.info()\n",
        "df.head()"
      ]
    },
    {
      "cell_type": "markdown",
      "metadata": {
        "id": "K2EjoWqunLFk"
      },
      "source": [
        "<div class=\"alert alert-info\">\n",
        "    \n",
        "### Вывод"
      ]
    },
    {
      "cell_type": "markdown",
      "metadata": {
        "id": "cEkiLK37nLFl"
      },
      "source": [
        "🧑‍🎓 Ира: можно заметить, что всего 2 колонки из 17 содержат пропуски: возраст и продолжительность звонка"
      ]
    },
    {
      "cell_type": "markdown",
      "metadata": {
        "id": "9S9rz0bInLFn"
      },
      "source": [
        "<div class=\"alert alert-info\">\n",
        "\n",
        "## Предобработка данных"
      ]
    },
    {
      "cell_type": "code",
      "execution_count": null,
      "metadata": {
        "colab": {
          "base_uri": "https://localhost:8080/"
        },
        "id": "tMPNMlrInLFo",
        "outputId": "e997cf76-6c34-48d6-e2fa-1470c2c294c2"
      },
      "outputs": [
        {
          "output_type": "execute_result",
          "data": {
            "text/plain": [
              "age          1967\n",
              "job             0\n",
              "marital         0\n",
              "education       0\n",
              "default         0\n",
              "balance         0\n",
              "housing         0\n",
              "loan            0\n",
              "contact         0\n",
              "day             0\n",
              "month           0\n",
              "duration     1498\n",
              "campaign        0\n",
              "pdays           0\n",
              "previous        0\n",
              "poutcome        0\n",
              "deposit         0\n",
              "dtype: int64"
            ]
          },
          "metadata": {},
          "execution_count": 94
        }
      ],
      "source": [
        "df.isna().sum()"
      ]
    },
    {
      "cell_type": "code",
      "execution_count": null,
      "metadata": {
        "id": "K4rNqdrrnLFr"
      },
      "outputs": [],
      "source": [
        "all_variables = df.shape[0]\n",
        "\n",
        "def empty_values(list_column):\n",
        "    for column in list_column:\n",
        "        column_nan = df[column].isna().sum()\n",
        "        column_proportion = column_nan / all_variables * 100\n",
        "        print('Доля пропущенных значений в столбце', column, '=', column_proportion)\n",
        "        print()\n",
        "        #print('Кол-во уникальных значений в столбце', column, '=', df[column].unique())\n",
        "        #print()"
      ]
    },
    {
      "cell_type": "code",
      "execution_count": null,
      "metadata": {
        "colab": {
          "base_uri": "https://localhost:8080/"
        },
        "id": "V_Woz4sdnLFs",
        "outputId": "0de2c17d-a1ed-4f6d-bc02-e78bebea4d7f"
      },
      "outputs": [
        {
          "output_type": "stream",
          "name": "stdout",
          "text": [
            "Доля пропущенных значений в столбце age = 17.622289912202113\n",
            "\n",
            "Доля пропущенных значений в столбце duration = 13.420533954488443\n",
            "\n"
          ]
        }
      ],
      "source": [
        "list_column = ['age', 'duration']\n",
        "\n",
        "empty_values(list_column)"
      ]
    },
    {
      "cell_type": "code",
      "source": [
        "print('Кол-во уникальных значений в столбце balcony =', df['pdays'].unique())"
      ],
      "metadata": {
        "colab": {
          "base_uri": "https://localhost:8080/"
        },
        "id": "ltBHISOSr7jm",
        "outputId": "cfd7eb86-243b-4055-90e0-ff9e4530adb0"
      },
      "execution_count": null,
      "outputs": [
        {
          "output_type": "stream",
          "name": "stdout",
          "text": [
            "Кол-во уникальных значений в столбце balcony = [ -1 166 147  91 170 171 126 182 110 198 174 175  27 128 100 167 122 183\n",
            " 195 133 178  34  10 163 184 154  99  93   2 272  76 160  90 177 246 238\n",
            " 196 268 267  92   9  88 189 210  85 261 106  41 294 199 231 239 302 135\n",
            " 307 323 141 270 320 138 264 316 315 146 328  74 148 341 327 145 266 234\n",
            " 345 318 274 260 305 254 325 180 343  82 340 181 153   4 349 334 278 176\n",
            "  87  86 169  83  79   6  13  84 350 259  80 161 164  22 296  66 263 333\n",
            "  89  78 286 364 188 342 344 337 352 356 295 367 366 359 347 370 284 306\n",
            " 300 363 288 371 301 292 358 346 368 312 179 329 353 298 372 287 355 374\n",
            " 375 360 291  95  94  98 186 101 321 357  96  35  97 285 103  81  38  28\n",
            " 113 293  55 119 109  72 187 120 391  50  67 207 105 314  71 140 104  65\n",
            "  20  49 386 412 229 385 156 389  63 394  70 185 102 190 116 461 422 457\n",
            " 403 191 459  69 197 173 271  64 428 392 193 474 475 477 130 283 157 192\n",
            " 462 131 397 132 129 134 121 107 115  58 114  57 208 335 139 430  52 143\n",
            " 515 111  56 194 269 520 213 351 273 378  60 200 201  75 310 127 257 165\n",
            " 309 203 313 216 209 279 162 282 202 436 433 281 276 150 297 280 446  48\n",
            " 616 561 553 555 262 242 265 388 152 326 339 205 223 626 421 236 206 172\n",
            " 348 311 648 369 426  53 275 258 361 479 237 384 425 376 224 322 227 225\n",
            " 144 450 424 776 251 460 521 683 158 529 155 415 244 458 481 445 535 784\n",
            " 595 455 470 491   1 304 435 437 728 518 308 828  31  43 398  29  44 579\n",
            " 466 125 504 365 769 587 792 842 586 690 137 541 550 442 407 439 414 168\n",
            " 532 243 387 440 503 124 204 290  14 221 469 409 782 603 332 232 427  73\n",
            " 330 551 405  40  77 319 149  37 417 490 362 804 805 544 472  33 495 253\n",
            " 123  36 299 256 324 463 235 117  68 774 228 255 401 233 486 778 771  42\n",
            " 338 354 373 245 772  59 247 230 331  61 381 108  15 222 336 136 212 277\n",
            " 241 250 217  21 211   8 594  12 303   5 151 826 717 289 252 214  24 701\n",
            "  17 118 317 112 395 399 476 142 558 390 449 377 749 854 444 420 159 404\n",
            "  62 478 761 651]\n"
          ]
        }
      ]
    },
    {
      "cell_type": "markdown",
      "source": [
        "🧑‍🎓 Ира: Можно сразу менять тексовые значения в колонке месяца на числовые, так как нам может пригодиться месяц как признак для модели."
      ],
      "metadata": {
        "id": "usoBhy-X3URC"
      }
    },
    {
      "cell_type": "code",
      "source": [
        "df['month_num'] = df['month'].apply(lambda x: datetime.datetime.strptime(x, \"%b\").month)"
      ],
      "metadata": {
        "id": "E76ylXGjuVz0"
      },
      "execution_count": null,
      "outputs": []
    },
    {
      "cell_type": "code",
      "source": [
        "df['deposit_num'] = df['deposit'].apply(lambda x: 1 if x == 'yes' else 0)"
      ],
      "metadata": {
        "id": "8YU8ydgb_sU3"
      },
      "execution_count": null,
      "outputs": []
    },
    {
      "cell_type": "markdown",
      "metadata": {
        "id": "ySlZZL9TnLFw"
      },
      "source": [
        "\n",
        "🧑‍🎓 Ира: Заполнить пропуски в столбце возраста можно медианой, а заполнить пропуски в продолжительности вызова можно 0(предполагаю,что если в продолжительности вызова пропуск, то самого вызова попросту не было), но на самом деле не вижу в этом особого смысла, так как если я верно поняла, для построения прогноза нам изначально рекомендуют его удалить: Thus, this input should only be included for benchmark purposes and should be discarded if the intention is to have a realistic predictive model.  \n",
        "\n",
        "В описании данных указано, что в колонке pdays число 999 означает, что раньше клиенту ничего не предлагали, но я так понимаю это ошибка и вместо 999 это значение -1\n",
        "  \n",
        "\n"
      ]
    },
    {
      "cell_type": "code",
      "execution_count": null,
      "metadata": {
        "id": "2mDTuhxLnLFx"
      },
      "outputs": [],
      "source": [
        "df['duration'] = df['duration'].fillna(0.0)\n",
        "\n",
        "def df_median(list_median):\n",
        "    for row in list_median:\n",
        "        df[row] = df[row].fillna(df[row].median())\n",
        "        \n",
        "list_median = ['age']\n",
        "\n",
        "df_median(list_median)\n"
      ]
    },
    {
      "cell_type": "code",
      "execution_count": null,
      "metadata": {
        "scrolled": false,
        "colab": {
          "base_uri": "https://localhost:8080/"
        },
        "id": "72PI3GDpnLFy",
        "outputId": "3f7e1f7f-bd5a-420d-edfe-f1d89b12018d"
      },
      "outputs": [
        {
          "output_type": "execute_result",
          "data": {
            "text/plain": [
              "age            0\n",
              "job            0\n",
              "marital        0\n",
              "education      0\n",
              "default        0\n",
              "balance        0\n",
              "housing        0\n",
              "loan           0\n",
              "contact        0\n",
              "day            0\n",
              "month          0\n",
              "duration       0\n",
              "campaign       0\n",
              "pdays          0\n",
              "previous       0\n",
              "poutcome       0\n",
              "deposit        0\n",
              "month_num      0\n",
              "deposit_num    0\n",
              "dtype: int64"
            ]
          },
          "metadata": {},
          "execution_count": 101
        }
      ],
      "source": [
        "df.isna().sum()"
      ]
    },
    {
      "cell_type": "code",
      "execution_count": null,
      "metadata": {
        "id": "Z8YYJqjZnLFz"
      },
      "outputs": [],
      "source": [
        "#Наверное имеет смысл преобразовать формат, так как в обеих колонках речь идет о целых числах, а не о float\n",
        "df['age'] = df['age'].astype(int)\n",
        "df['duration'] = df['duration'].astype(int)\n"
      ]
    },
    {
      "cell_type": "markdown",
      "metadata": {
        "id": "UlfDc3bbnLF4"
      },
      "source": [
        "<div class=\"alert alert-info\">\n",
        "\n",
        "## Исследовательский анализ данных"
      ]
    },
    {
      "cell_type": "markdown",
      "metadata": {
        "id": "Zjj5FSr7nLF5"
      },
      "source": [
        "#### Изучим следующие параметры: возраст, месяц и день недели предыдущего предложения, продолжительность звонка, кол-во дней с предыдущего предложение, кол-во контактов по этому предложению, кол-во контактов в другие кампании"
      ]
    },
    {
      "cell_type": "code",
      "execution_count": null,
      "metadata": {
        "colab": {
          "base_uri": "https://localhost:8080/",
          "height": 469
        },
        "id": "XeqkiZpAnLF6",
        "outputId": "60cf99e4-035f-4f42-d8c3-b536ac7b5e7d"
      },
      "outputs": [
        {
          "output_type": "execute_result",
          "data": {
            "text/plain": [
              "array([[<Axes: title={'center': 'age'}>]], dtype=object)"
            ]
          },
          "metadata": {},
          "execution_count": 103
        },
        {
          "output_type": "display_data",
          "data": {
            "text/plain": [
              "<Figure size 640x480 with 1 Axes>"
            ],
            "image/png": "[encoded data removed]"
          },
          "metadata": {}
        }
      ],
      "source": [
        "df.hist('age', range=(0,150), bins=30)"
      ]
    },
    {
      "cell_type": "markdown",
      "metadata": {
        "id": "bsH2BKYsnLF7"
      },
      "source": [
        "🧑‍🎓 Ира: На данной гистограмме видно, что большая часть клиентов возрастом до 40 лет, хвост после 60 я бы удалила вообще"
      ]
    },
    {
      "cell_type": "code",
      "source": [
        "df.hist('month_num', range=(0,12))"
      ],
      "metadata": {
        "colab": {
          "base_uri": "https://localhost:8080/",
          "height": 469
        },
        "id": "uFGCFJEN0RDp",
        "outputId": "b0da7662-3bce-40ea-a3ef-9a2213d21cc9"
      },
      "execution_count": null,
      "outputs": [
        {
          "output_type": "execute_result",
          "data": {
            "text/plain": [
              "array([[<Axes: title={'center': 'month_num'}>]], dtype=object)"
            ]
          },
          "metadata": {},
          "execution_count": 104
        },
        {
          "output_type": "display_data",
          "data": {
            "text/plain": [
              "<Figure size 640x480 with 1 Axes>"
            ],
            "image/png": "[encoded data removed]"
          },
          "metadata": {}
        }
      ]
    },
    {
      "cell_type": "markdown",
      "source": [
        "🧑‍🎓 Ира: можно зметить, что большинство кампаний приходится на летние месяцы и на новый год\n",
        "\n"
      ],
      "metadata": {
        "id": "-g8U4kG43puZ"
      }
    },
    {
      "cell_type": "code",
      "execution_count": null,
      "metadata": {
        "scrolled": true,
        "colab": {
          "base_uri": "https://localhost:8080/",
          "height": 469
        },
        "id": "6EwFDU0NnLF8",
        "outputId": "d88a7449-735b-45e8-d29b-897b45d9f7f6"
      },
      "outputs": [
        {
          "output_type": "execute_result",
          "data": {
            "text/plain": [
              "array([[<Axes: title={'center': 'day'}>]], dtype=object)"
            ]
          },
          "metadata": {},
          "execution_count": 105
        },
        {
          "output_type": "display_data",
          "data": {
            "text/plain": [
              "<Figure size 640x480 with 1 Axes>"
            ],
            "image/png": "[encoded data removed]"
          },
          "metadata": {}
        }
      ],
      "source": [
        "df.hist('day', range=(0,35))"
      ]
    },
    {
      "cell_type": "markdown",
      "metadata": {
        "id": "dr74v4_fnLF8"
      },
      "source": [
        "🧑‍🎓 Ира: особой тенденции не наблюдается, звонки происходят в разные дни с примерно одинаковой частотой"
      ]
    },
    {
      "cell_type": "code",
      "execution_count": null,
      "metadata": {
        "scrolled": true,
        "colab": {
          "base_uri": "https://localhost:8080/",
          "height": 469
        },
        "id": "BDU57FZTnLF9",
        "outputId": "67c1a4b2-aa9a-40f9-a138-d470b14b4d3e"
      },
      "outputs": [
        {
          "output_type": "execute_result",
          "data": {
            "text/plain": [
              "array([[<Axes: title={'center': 'duration'}>]], dtype=object)"
            ]
          },
          "metadata": {},
          "execution_count": 106
        },
        {
          "output_type": "display_data",
          "data": {
            "text/plain": [
              "<Figure size 640x480 with 1 Axes>"
            ],
            "image/png": "[encoded data removed]"
          },
          "metadata": {}
        }
      ],
      "source": [
        "df.hist('duration', range=(0,2500), bins=20)"
      ]
    },
    {
      "cell_type": "markdown",
      "metadata": {
        "id": "grNazKNznLF9"
      },
      "source": [
        "🧑‍🎓 Ира: можно заметить, что очень много клиентов, с которыми не созванивались, а если созванивались то разговаривали не очень много. хвост после 1000 секунд я бы отбросила \n",
        "\n"
      ]
    },
    {
      "cell_type": "code",
      "execution_count": null,
      "metadata": {
        "scrolled": true,
        "colab": {
          "base_uri": "https://localhost:8080/",
          "height": 469
        },
        "id": "xdTGZOQ3nLF-",
        "outputId": "9f434ce3-b2f6-4a53-f33b-27c2845b1a54"
      },
      "outputs": [
        {
          "output_type": "execute_result",
          "data": {
            "text/plain": [
              "array([[<Axes: title={'center': 'campaign'}>]], dtype=object)"
            ]
          },
          "metadata": {},
          "execution_count": 107
        },
        {
          "output_type": "display_data",
          "data": {
            "text/plain": [
              "<Figure size 640x480 with 1 Axes>"
            ],
            "image/png": "[encoded data removed]"
          },
          "metadata": {}
        }
      ],
      "source": [
        "df.hist('campaign', range=(1,20))"
      ]
    },
    {
      "cell_type": "markdown",
      "source": [
        "🧑‍🎓 Ира: можно заметить, что по кампании с клиентом созваниваются 1-2 раза в большинстве случаев"
      ],
      "metadata": {
        "id": "4X7hKOE-37hO"
      }
    },
    {
      "cell_type": "code",
      "source": [
        "df.hist('pdays', range=(1,999))"
      ],
      "metadata": {
        "colab": {
          "base_uri": "https://localhost:8080/",
          "height": 469
        },
        "id": "ok7W2VzO2zHK",
        "outputId": "5d911eaf-b17b-483e-edcb-befc408bb6fe"
      },
      "execution_count": null,
      "outputs": [
        {
          "output_type": "execute_result",
          "data": {
            "text/plain": [
              "array([[<Axes: title={'center': 'pdays'}>]], dtype=object)"
            ]
          },
          "metadata": {},
          "execution_count": 108
        },
        {
          "output_type": "display_data",
          "data": {
            "text/plain": [
              "<Figure size 640x480 with 1 Axes>"
            ],
            "image/png": "[encoded data removed]"
          },
          "metadata": {}
        }
      ]
    },
    {
      "cell_type": "markdown",
      "source": [
        "🧑‍🎓 Ира: в основном с предыдущего предложения не проходит больше полугода"
      ],
      "metadata": {
        "id": "7mdhCjvb4k_Z"
      }
    },
    {
      "cell_type": "code",
      "source": [
        "df.hist('previous', range=(1,35))"
      ],
      "metadata": {
        "colab": {
          "base_uri": "https://localhost:8080/",
          "height": 469
        },
        "id": "Lw7u9n_U45TE",
        "outputId": "4d82a722-5ddd-4eae-e738-5c48c6efeadb"
      },
      "execution_count": null,
      "outputs": [
        {
          "output_type": "execute_result",
          "data": {
            "text/plain": [
              "array([[<Axes: title={'center': 'previous'}>]], dtype=object)"
            ]
          },
          "metadata": {},
          "execution_count": 109
        },
        {
          "output_type": "display_data",
          "data": {
            "text/plain": [
              "<Figure size 640x480 with 1 Axes>"
            ],
            "image/png": "[encoded data removed]"
          },
          "metadata": {}
        }
      ]
    },
    {
      "cell_type": "markdown",
      "source": [
        "🧑‍🎓 Ира: в основном с клиентом было до 5 контактов в предыдущие кампании. хвост после 15 я бы удалила"
      ],
      "metadata": {
        "id": "C71TjL5g5O7N"
      }
    },
    {
      "cell_type": "markdown",
      "metadata": {
        "id": "vLotZduKnLGC"
      },
      "source": [
        "<div class=\"alert alert-info\">\n",
        "\n",
        "### Уберем редкие и выбивающиеся значения."
      ]
    },
    {
      "cell_type": "markdown",
      "source": [
        "🧑‍🎓 Ира: мы конечно можем удалить выбросы исходя из моих комментариев выше, но сделаем вид, что мы умненькие и удалим по перцентелям :) "
      ],
      "metadata": {
        "id": "NRgis3Au96zK"
      }
    },
    {
      "cell_type": "code",
      "execution_count": null,
      "metadata": {
        "id": "_iqFT8KQnLGD"
      },
      "outputs": [],
      "source": [
        "data = df.query('age <= 60')\n",
        "data = data[data['duration'] <= np.percentile(data['duration'], [95])[0]]\n",
        "data = data[data['pdays'] <= np.percentile(data['pdays'], [99])[0]]\n",
        "data = data[data['previous'] <= np.percentile(data['previous'], [99])[0]]"
      ]
    },
    {
      "cell_type": "code",
      "source": [
        "data.info()"
      ],
      "metadata": {
        "colab": {
          "base_uri": "https://localhost:8080/"
        },
        "id": "YSvcmdQ49ZOy",
        "outputId": "827d29b9-2b8c-42ac-a3e5-aa76049fa221"
      },
      "execution_count": null,
      "outputs": [
        {
          "output_type": "stream",
          "name": "stdout",
          "text": [
            "<class 'pandas.core.frame.DataFrame'>\n",
            "Int64Index: 9936 entries, 0 to 11161\n",
            "Data columns (total 19 columns):\n",
            " #   Column       Non-Null Count  Dtype \n",
            "---  ------       --------------  ----- \n",
            " 0   age          9936 non-null   int64 \n",
            " 1   job          9936 non-null   object\n",
            " 2   marital      9936 non-null   object\n",
            " 3   education    9936 non-null   object\n",
            " 4   default      9936 non-null   object\n",
            " 5   balance      9936 non-null   int64 \n",
            " 6   housing      9936 non-null   object\n",
            " 7   loan         9936 non-null   object\n",
            " 8   contact      9936 non-null   object\n",
            " 9   day          9936 non-null   int64 \n",
            " 10  month        9936 non-null   object\n",
            " 11  duration     9936 non-null   int64 \n",
            " 12  campaign     9936 non-null   int64 \n",
            " 13  pdays        9936 non-null   int64 \n",
            " 14  previous     9936 non-null   int64 \n",
            " 15  poutcome     9936 non-null   object\n",
            " 16  deposit      9936 non-null   object\n",
            " 17  month_num    9936 non-null   int64 \n",
            " 18  deposit_num  9936 non-null   int64 \n",
            "dtypes: int64(9), object(10)\n",
            "memory usage: 1.5+ MB\n"
          ]
        }
      ]
    },
    {
      "cell_type": "markdown",
      "source": [
        "🧑‍🎓 Ира: удалилось всего 2000 строк, мне кажется на этом очистку данных можно закончить"
      ],
      "metadata": {
        "id": "x3T4R8DJ-Hfg"
      }
    },
    {
      "cell_type": "markdown",
      "metadata": {
        "id": "AhsBRGRgnLGE"
      },
      "source": [
        "<div class=\"alert alert-info\">\n",
        "    \n",
        "### Какие факторы больше всего влияют на целевую переменную"
      ]
    },
    {
      "cell_type": "code",
      "execution_count": null,
      "metadata": {
        "colab": {
          "base_uri": "https://localhost:8080/",
          "height": 328
        },
        "id": "4FLoG6mDnLGG",
        "outputId": "a7742bb5-f761-4789-9700-e95ab3e99a2c"
      },
      "outputs": [
        {
          "output_type": "execute_result",
          "data": {
            "text/plain": [
              "                  age   balance       day  duration  campaign     pdays  \\\n",
              "age          1.000000  0.066395  0.012584 -0.003842  0.032803 -0.023559   \n",
              "balance      0.066395  1.000000  0.018399  0.018956 -0.008237  0.012842   \n",
              "day          0.012584  0.018399  1.000000 -0.009216  0.142123 -0.101903   \n",
              "duration    -0.003842  0.018956 -0.009216  1.000000 -0.068185  0.004551   \n",
              "campaign     0.032803 -0.008237  0.142123 -0.068185  1.000000 -0.101984   \n",
              "pdays       -0.023559  0.012842 -0.101903  0.004551 -0.101984  1.000000   \n",
              "previous    -0.004694  0.037145 -0.076418  0.012619 -0.079681  0.617373   \n",
              "month_num    0.071681  0.079117  0.064039  0.005480  0.040255 -0.067096   \n",
              "deposit_num -0.080300  0.083770 -0.066093  0.399790 -0.132574  0.153047   \n",
              "\n",
              "             previous  month_num  deposit_num  \n",
              "age         -0.004694   0.071681    -0.080300  \n",
              "balance      0.037145   0.079117     0.083770  \n",
              "day         -0.076418   0.064039    -0.066093  \n",
              "duration     0.012619   0.005480     0.399790  \n",
              "campaign    -0.079681   0.040255    -0.132574  \n",
              "pdays        0.617373  -0.067096     0.153047  \n",
              "previous     1.000000  -0.000045     0.206080  \n",
              "month_num   -0.000045   1.000000     0.024781  \n",
              "deposit_num  0.206080   0.024781     1.000000  "
            ],
            "text/html": [
              "\n",
              "  <div id=\"df-a3c6b042-7e60-4eab-a670-7e29ee6d84ea\">\n",
              "    <div class=\"colab-df-container\">\n",
              "      <div>\n",
              "<style scoped>\n",
              "    .dataframe tbody tr th:only-of-type {\n",
              "        vertical-align: middle;\n",
              "    }\n",
              "\n",
              "    .dataframe tbody tr th {\n",
              "        vertical-align: top;\n",
              "    }\n",
              "\n",
              "    .dataframe thead th {\n",
              "        text-align: right;\n",
              "    }\n",
              "</style>\n",
              "<table border=\"1\" class=\"dataframe\">\n",
              "  <thead>\n",
              "    <tr style=\"text-align: right;\">\n",
              "      <th></th>\n",
              "      <th>age</th>\n",
              "      <th>balance</th>\n",
              "      <th>day</th>\n",
              "      <th>duration</th>\n",
              "      <th>campaign</th>\n",
              "      <th>pdays</th>\n",
              "      <th>previous</th>\n",
              "      <th>month_num</th>\n",
              "      <th>deposit_num</th>\n",
              "    </tr>\n",
              "  </thead>\n",
              "  <tbody>\n",
              "    <tr>\n",
              "      <th>age</th>\n",
              "      <td>1.000000</td>\n",
              "      <td>0.066395</td>\n",
              "      <td>0.012584</td>\n",
              "      <td>-0.003842</td>\n",
              "      <td>0.032803</td>\n",
              "      <td>-0.023559</td>\n",
              "      <td>-0.004694</td>\n",
              "      <td>0.071681</td>\n",
              "      <td>-0.080300</td>\n",
              "    </tr>\n",
              "    <tr>\n",
              "      <th>balance</th>\n",
              "      <td>0.066395</td>\n",
              "      <td>1.000000</td>\n",
              "      <td>0.018399</td>\n",
              "      <td>0.018956</td>\n",
              "      <td>-0.008237</td>\n",
              "      <td>0.012842</td>\n",
              "      <td>0.037145</td>\n",
              "      <td>0.079117</td>\n",
              "      <td>0.083770</td>\n",
              "    </tr>\n",
              "    <tr>\n",
              "      <th>day</th>\n",
              "      <td>0.012584</td>\n",
              "      <td>0.018399</td>\n",
              "      <td>1.000000</td>\n",
              "      <td>-0.009216</td>\n",
              "      <td>0.142123</td>\n",
              "      <td>-0.101903</td>\n",
              "      <td>-0.076418</td>\n",
              "      <td>0.064039</td>\n",
              "      <td>-0.066093</td>\n",
              "    </tr>\n",
              "    <tr>\n",
              "      <th>duration</th>\n",
              "      <td>-0.003842</td>\n",
              "      <td>0.018956</td>\n",
              "      <td>-0.009216</td>\n",
              "      <td>1.000000</td>\n",
              "      <td>-0.068185</td>\n",
              "      <td>0.004551</td>\n",
              "      <td>0.012619</td>\n",
              "      <td>0.005480</td>\n",
              "      <td>0.399790</td>\n",
              "    </tr>\n",
              "    <tr>\n",
              "      <th>campaign</th>\n",
              "      <td>0.032803</td>\n",
              "      <td>-0.008237</td>\n",
              "      <td>0.142123</td>\n",
              "      <td>-0.068185</td>\n",
              "      <td>1.000000</td>\n",
              "      <td>-0.101984</td>\n",
              "      <td>-0.079681</td>\n",
              "      <td>0.040255</td>\n",
              "      <td>-0.132574</td>\n",
              "    </tr>\n",
              "    <tr>\n",
              "      <th>pdays</th>\n",
              "      <td>-0.023559</td>\n",
              "      <td>0.012842</td>\n",
              "      <td>-0.101903</td>\n",
              "      <td>0.004551</td>\n",
              "      <td>-0.101984</td>\n",
              "      <td>1.000000</td>\n",
              "      <td>0.617373</td>\n",
              "      <td>-0.067096</td>\n",
              "      <td>0.153047</td>\n",
              "    </tr>\n",
              "    <tr>\n",
              "      <th>previous</th>\n",
              "      <td>-0.004694</td>\n",
              "      <td>0.037145</td>\n",
              "      <td>-0.076418</td>\n",
              "      <td>0.012619</td>\n",
              "      <td>-0.079681</td>\n",
              "      <td>0.617373</td>\n",
              "      <td>1.000000</td>\n",
              "      <td>-0.000045</td>\n",
              "      <td>0.206080</td>\n",
              "    </tr>\n",
              "    <tr>\n",
              "      <th>month_num</th>\n",
              "      <td>0.071681</td>\n",
              "      <td>0.079117</td>\n",
              "      <td>0.064039</td>\n",
              "      <td>0.005480</td>\n",
              "      <td>0.040255</td>\n",
              "      <td>-0.067096</td>\n",
              "      <td>-0.000045</td>\n",
              "      <td>1.000000</td>\n",
              "      <td>0.024781</td>\n",
              "    </tr>\n",
              "    <tr>\n",
              "      <th>deposit_num</th>\n",
              "      <td>-0.080300</td>\n",
              "      <td>0.083770</td>\n",
              "      <td>-0.066093</td>\n",
              "      <td>0.399790</td>\n",
              "      <td>-0.132574</td>\n",
              "      <td>0.153047</td>\n",
              "      <td>0.206080</td>\n",
              "      <td>0.024781</td>\n",
              "      <td>1.000000</td>\n",
              "    </tr>\n",
              "  </tbody>\n",
              "</table>\n",
              "</div>\n",
              "      <button class=\"colab-df-convert\" onclick=\"convertToInteractive('df-a3c6b042-7e60-4eab-a670-7e29ee6d84ea')\"\n",
              "              title=\"Convert this dataframe to an interactive table.\"\n",
              "              style=\"display:none;\">\n",
              "        \n",
              "  <svg xmlns=\"http://www.w3.org/2000/svg\" height=\"24px\"viewBox=\"0 0 24 24\"\n",
              "       width=\"24px\">\n",
              "    <path d=\"M0 0h24v24H0V0z\" fill=\"none\"/>\n",
              "    <path d=\"M18.56 5.44l.94 2.06.94-2.06 2.06-.94-2.06-.94-.94-2.06-.94 2.06-2.06.94zm-11 1L8.5 8.5l.94-2.06 2.06-.94-2.06-.94L8.5 2.5l-.94 2.06-2.06.94zm10 10l.94 2.06.94-2.06 2.06-.94-2.06-.94-.94-2.06-.94 2.06-2.06.94z\"/><path d=\"M17.41 7.96l-1.37-1.37c-.4-.4-.92-.59-1.43-.59-.52 0-1.04.2-1.43.59L10.3 9.45l-7.72 7.72c-.78.78-.78 2.05 0 2.83L4 21.41c.39.39.9.59 1.41.59.51 0 1.02-.2 1.41-.59l7.78-7.78 2.81-2.81c.8-.78.8-2.07 0-2.86zM5.41 20L4 18.59l7.72-7.72 1.47 1.35L5.41 20z\"/>\n",
              "  </svg>\n",
              "      </button>\n",
              "      \n",
              "  <style>\n",
              "    .colab-df-container {\n",
              "      display:flex;\n",
              "      flex-wrap:wrap;\n",
              "      gap: 12px;\n",
              "    }\n",
              "\n",
              "    .colab-df-convert {\n",
              "      background-color: #E8F0FE;\n",
              "      border: none;\n",
              "      border-radius: 50%;\n",
              "      cursor: pointer;\n",
              "      display: none;\n",
              "      fill: #1967D2;\n",
              "      height: 32px;\n",
              "      padding: 0 0 0 0;\n",
              "      width: 32px;\n",
              "    }\n",
              "\n",
              "    .colab-df-convert:hover {\n",
              "      background-color: #E2EBFA;\n",
              "      box-shadow: 0px 1px 2px rgba(60, 64, 67, 0.3), 0px 1px 3px 1px rgba(60, 64, 67, 0.15);\n",
              "      fill: #174EA6;\n",
              "    }\n",
              "\n",
              "    [theme=dark] .colab-df-convert {\n",
              "      background-color: #3B4455;\n",
              "      fill: #D2E3FC;\n",
              "    }\n",
              "\n",
              "    [theme=dark] .colab-df-convert:hover {\n",
              "      background-color: #434B5C;\n",
              "      box-shadow: 0px 1px 3px 1px rgba(0, 0, 0, 0.15);\n",
              "      filter: drop-shadow(0px 1px 2px rgba(0, 0, 0, 0.3));\n",
              "      fill: #FFFFFF;\n",
              "    }\n",
              "  </style>\n",
              "\n",
              "      <script>\n",
              "        const buttonEl =\n",
              "          document.querySelector('#df-a3c6b042-7e60-4eab-a670-7e29ee6d84ea button.colab-df-convert');\n",
              "        buttonEl.style.display =\n",
              "          google.colab.kernel.accessAllowed ? 'block' : 'none';\n",
              "\n",
              "        async function convertToInteractive(key) {\n",
              "          const element = document.querySelector('#df-a3c6b042-7e60-4eab-a670-7e29ee6d84ea');\n",
              "          const dataTable =\n",
              "            await google.colab.kernel.invokeFunction('convertToInteractive',\n",
              "                                                     [key], {});\n",
              "          if (!dataTable) return;\n",
              "\n",
              "          const docLinkHtml = 'Like what you see? Visit the ' +\n",
              "            '<a target=\"_blank\" href=https://colab.research.google.com/notebooks/data_table.ipynb>data table notebook</a>'\n",
              "            + ' to learn more about interactive tables.';\n",
              "          element.innerHTML = '';\n",
              "          dataTable['output_type'] = 'display_data';\n",
              "          await google.colab.output.renderOutput(dataTable, element);\n",
              "          const docLink = document.createElement('div');\n",
              "          docLink.innerHTML = docLinkHtml;\n",
              "          element.appendChild(docLink);\n",
              "        }\n",
              "      </script>\n",
              "    </div>\n",
              "  </div>\n",
              "  "
            ]
          },
          "metadata": {},
          "execution_count": 112
        }
      ],
      "source": [
        "data.corr()\n"
      ]
    },
    {
      "cell_type": "code",
      "execution_count": null,
      "metadata": {
        "id": "-YO8ZsiZnLGG"
      },
      "outputs": [],
      "source": [
        "#pd.plotting.scatter_matrix(data.corr(), figsize=(10, 10));"
      ]
    },
    {
      "cell_type": "markdown",
      "metadata": {
        "id": "jv8CzKjPnLGH"
      },
      "source": [
        "🧑‍🎓 Ира:   \n",
        "Если честно, не очень понятно...\n",
        "Либо я что-то неверно сделала, либо на нашу целевую переменную особо ничего не влияет...\n",
        "корреляция между признаками наблюдается только у столбцов pdays и previous, но она меньше 0.85, так что можно не удалять один из столбцов\n"
      ]
    },
    {
      "cell_type": "code",
      "execution_count": null,
      "metadata": {
        "id": "IuFy4wXNnLGR"
      },
      "outputs": [],
      "source": []
    }
  ],
  "metadata": {
    "ExecuteTimeLog": [
      {
        "duration": 528,
        "start_time": "2022-03-23T18:29:22.150Z"
      },
      {
        "duration": 93,
        "start_time": "2022-03-23T18:29:24.639Z"
      },
      {
        "duration": 18,
        "start_time": "2022-03-23T18:29:33.016Z"
      },
      {
        "duration": 33,
        "start_time": "2022-03-23T18:29:57.276Z"
      },
      {
        "duration": 5,
        "start_time": "2022-03-23T18:31:28.462Z"
      },
      {
        "duration": 94,
        "start_time": "2022-03-23T18:31:30.547Z"
      },
      {
        "duration": 22,
        "start_time": "2022-03-23T18:31:32.470Z"
      },
      {
        "duration": 200,
        "start_time": "2022-03-23T18:31:41.314Z"
      },
      {
        "duration": 94,
        "start_time": "2022-03-23T18:31:51.589Z"
      },
      {
        "duration": 23,
        "start_time": "2022-03-23T18:31:53.272Z"
      },
      {
        "duration": 129,
        "start_time": "2022-03-23T18:32:28.322Z"
      },
      {
        "duration": 30,
        "start_time": "2022-03-23T18:32:37.211Z"
      },
      {
        "duration": 132,
        "start_time": "2022-03-23T18:33:10.451Z"
      },
      {
        "duration": 30,
        "start_time": "2022-03-23T18:33:12.255Z"
      },
      {
        "duration": 607,
        "start_time": "2022-03-23T18:35:02.743Z"
      },
      {
        "duration": 107,
        "start_time": "2022-03-23T18:35:09.274Z"
      },
      {
        "duration": 23,
        "start_time": "2022-03-23T18:35:10.882Z"
      },
      {
        "duration": 94,
        "start_time": "2022-03-23T18:35:16.839Z"
      },
      {
        "duration": 96,
        "start_time": "2022-03-23T18:41:51.327Z"
      },
      {
        "duration": 23,
        "start_time": "2022-03-23T18:41:52.956Z"
      },
      {
        "duration": 98,
        "start_time": "2022-03-23T18:45:32.475Z"
      },
      {
        "duration": 10,
        "start_time": "2022-03-23T18:45:33.774Z"
      },
      {
        "duration": 188,
        "start_time": "2022-03-23T18:52:42.310Z"
      },
      {
        "duration": 91,
        "start_time": "2022-03-23T18:52:47.220Z"
      },
      {
        "duration": 9,
        "start_time": "2022-03-23T18:52:49.224Z"
      },
      {
        "duration": 105,
        "start_time": "2022-03-23T18:59:34.731Z"
      },
      {
        "duration": 37,
        "start_time": "2022-03-23T18:59:36.508Z"
      },
      {
        "duration": 54,
        "start_time": "2022-03-23T19:01:55.618Z"
      },
      {
        "duration": 63,
        "start_time": "2022-03-23T19:16:28.207Z"
      },
      {
        "duration": 91,
        "start_time": "2022-03-23T19:16:40.115Z"
      },
      {
        "duration": 59,
        "start_time": "2022-03-23T19:16:49.549Z"
      },
      {
        "duration": 102,
        "start_time": "2022-03-23T19:17:04.541Z"
      },
      {
        "duration": 82,
        "start_time": "2022-03-23T19:17:10.540Z"
      },
      {
        "duration": 14,
        "start_time": "2022-03-23T19:18:49.362Z"
      },
      {
        "duration": 10,
        "start_time": "2022-03-23T19:26:14.283Z"
      },
      {
        "duration": 15,
        "start_time": "2022-03-23T19:26:21.477Z"
      },
      {
        "duration": 7,
        "start_time": "2022-03-23T19:29:44.316Z"
      },
      {
        "duration": 19,
        "start_time": "2022-03-23T19:32:24.074Z"
      },
      {
        "duration": 5,
        "start_time": "2022-03-23T19:32:34.888Z"
      },
      {
        "duration": 80,
        "start_time": "2022-03-23T19:32:36.520Z"
      },
      {
        "duration": 5,
        "start_time": "2022-03-23T19:33:07.192Z"
      },
      {
        "duration": 73,
        "start_time": "2022-03-23T19:33:08.610Z"
      },
      {
        "duration": 5,
        "start_time": "2022-03-23T19:34:33.913Z"
      },
      {
        "duration": 25,
        "start_time": "2022-03-23T19:34:35.296Z"
      },
      {
        "duration": 15,
        "start_time": "2022-03-23T19:37:07.201Z"
      },
      {
        "duration": 21,
        "start_time": "2022-03-23T19:37:15.240Z"
      },
      {
        "duration": 17,
        "start_time": "2022-03-23T19:37:42.520Z"
      },
      {
        "duration": 24,
        "start_time": "2022-03-23T19:37:46.566Z"
      },
      {
        "duration": 15,
        "start_time": "2022-03-23T19:39:08.619Z"
      },
      {
        "duration": 21,
        "start_time": "2022-03-23T19:39:11.738Z"
      },
      {
        "duration": 15,
        "start_time": "2022-03-23T19:39:30.452Z"
      },
      {
        "duration": 252,
        "start_time": "2022-03-23T19:40:03.307Z"
      },
      {
        "duration": 15,
        "start_time": "2022-03-23T19:41:06.468Z"
      },
      {
        "duration": 24,
        "start_time": "2022-03-23T19:41:12.710Z"
      },
      {
        "duration": 4,
        "start_time": "2022-03-23T19:42:03.371Z"
      },
      {
        "duration": 24,
        "start_time": "2022-03-23T19:42:19.224Z"
      },
      {
        "duration": 5,
        "start_time": "2022-03-23T19:42:22.367Z"
      },
      {
        "duration": 24,
        "start_time": "2022-03-23T19:42:24.882Z"
      },
      {
        "duration": 10,
        "start_time": "2022-03-23T19:45:41.733Z"
      },
      {
        "duration": 12,
        "start_time": "2022-03-23T19:45:54.835Z"
      },
      {
        "duration": 8,
        "start_time": "2022-03-23T19:47:25.720Z"
      },
      {
        "duration": 8,
        "start_time": "2022-03-23T19:51:53.932Z"
      },
      {
        "duration": 19,
        "start_time": "2022-03-23T19:53:25.421Z"
      },
      {
        "duration": 207,
        "start_time": "2022-03-23T20:13:23.262Z"
      },
      {
        "duration": 205,
        "start_time": "2022-03-23T20:13:35.477Z"
      },
      {
        "duration": 16,
        "start_time": "2022-03-23T20:13:44.307Z"
      },
      {
        "duration": 11,
        "start_time": "2022-03-23T20:14:39.906Z"
      },
      {
        "duration": 10,
        "start_time": "2022-03-23T20:16:47.048Z"
      },
      {
        "duration": 194,
        "start_time": "2022-03-23T20:16:58.294Z"
      },
      {
        "duration": 25,
        "start_time": "2022-03-23T20:17:03.634Z"
      },
      {
        "duration": 72,
        "start_time": "2022-03-23T20:17:21.641Z"
      },
      {
        "duration": 39,
        "start_time": "2022-03-23T20:19:27.167Z"
      },
      {
        "duration": 43,
        "start_time": "2022-03-23T20:19:37.241Z"
      },
      {
        "duration": 26,
        "start_time": "2022-03-23T20:19:47.928Z"
      },
      {
        "duration": 68,
        "start_time": "2022-03-23T20:19:53.956Z"
      },
      {
        "duration": 72,
        "start_time": "2022-03-23T20:28:24.010Z"
      },
      {
        "duration": 4,
        "start_time": "2022-03-23T20:36:14.056Z"
      },
      {
        "duration": 173,
        "start_time": "2022-03-23T20:38:17.551Z"
      },
      {
        "duration": 776,
        "start_time": "2022-03-23T20:38:56.226Z"
      },
      {
        "duration": 839,
        "start_time": "2022-03-23T20:39:06.749Z"
      },
      {
        "duration": 804,
        "start_time": "2022-03-23T20:39:20.842Z"
      },
      {
        "duration": 753,
        "start_time": "2022-03-23T20:40:37.263Z"
      },
      {
        "duration": 764,
        "start_time": "2022-03-23T20:41:32.641Z"
      },
      {
        "duration": 67,
        "start_time": "2022-03-24T05:29:21.038Z"
      },
      {
        "duration": 8,
        "start_time": "2022-03-24T05:29:25.629Z"
      },
      {
        "duration": 487,
        "start_time": "2022-03-24T05:29:31.601Z"
      },
      {
        "duration": 96,
        "start_time": "2022-03-24T05:29:32.799Z"
      },
      {
        "duration": 61,
        "start_time": "2022-03-24T05:29:33.760Z"
      },
      {
        "duration": 13,
        "start_time": "2022-03-24T05:29:39.044Z"
      },
      {
        "duration": 5,
        "start_time": "2022-03-24T05:29:42.178Z"
      },
      {
        "duration": 5,
        "start_time": "2022-03-24T05:29:42.979Z"
      },
      {
        "duration": 26,
        "start_time": "2022-03-24T05:29:43.826Z"
      },
      {
        "duration": 7,
        "start_time": "2022-03-24T05:29:47.311Z"
      },
      {
        "duration": 8,
        "start_time": "2022-03-24T05:29:49.929Z"
      },
      {
        "duration": 15,
        "start_time": "2022-03-24T05:29:50.804Z"
      },
      {
        "duration": 739,
        "start_time": "2022-03-24T05:29:54.429Z"
      },
      {
        "duration": 780,
        "start_time": "2022-03-24T05:29:58.179Z"
      },
      {
        "duration": 247,
        "start_time": "2022-03-24T05:30:21.899Z"
      },
      {
        "duration": 375,
        "start_time": "2022-03-24T05:30:26.888Z"
      },
      {
        "duration": 267,
        "start_time": "2022-03-24T05:31:14.245Z"
      },
      {
        "duration": 211,
        "start_time": "2022-03-24T05:31:51.498Z"
      },
      {
        "duration": 249,
        "start_time": "2022-03-24T05:32:01.844Z"
      },
      {
        "duration": 154,
        "start_time": "2022-03-24T05:32:22.229Z"
      },
      {
        "duration": 257,
        "start_time": "2022-03-24T05:32:30.933Z"
      },
      {
        "duration": 276,
        "start_time": "2022-03-24T05:34:12.146Z"
      },
      {
        "duration": 249,
        "start_time": "2022-03-24T05:34:16.523Z"
      },
      {
        "duration": 261,
        "start_time": "2022-03-24T05:34:20.831Z"
      },
      {
        "duration": 251,
        "start_time": "2022-03-24T05:34:24.988Z"
      },
      {
        "duration": 275,
        "start_time": "2022-03-24T05:34:30.269Z"
      },
      {
        "duration": 339,
        "start_time": "2022-03-24T05:34:33.825Z"
      },
      {
        "duration": 243,
        "start_time": "2022-03-24T05:34:42.998Z"
      },
      {
        "duration": 237,
        "start_time": "2022-03-24T05:35:41.338Z"
      },
      {
        "duration": 213,
        "start_time": "2022-03-24T05:35:52.141Z"
      },
      {
        "duration": 212,
        "start_time": "2022-03-24T05:37:26.351Z"
      },
      {
        "duration": 216,
        "start_time": "2022-03-24T05:37:38.381Z"
      },
      {
        "duration": 211,
        "start_time": "2022-03-24T05:37:46.242Z"
      },
      {
        "duration": 204,
        "start_time": "2022-03-24T05:37:49.895Z"
      },
      {
        "duration": 220,
        "start_time": "2022-03-24T05:37:57.808Z"
      },
      {
        "duration": 213,
        "start_time": "2022-03-24T05:38:04.090Z"
      },
      {
        "duration": 211,
        "start_time": "2022-03-24T05:38:10.040Z"
      },
      {
        "duration": 530,
        "start_time": "2022-03-24T05:39:45.163Z"
      },
      {
        "duration": 331,
        "start_time": "2022-03-24T05:39:55.707Z"
      },
      {
        "duration": 278,
        "start_time": "2022-03-24T05:40:17.102Z"
      },
      {
        "duration": 268,
        "start_time": "2022-03-24T05:40:29.390Z"
      },
      {
        "duration": 53,
        "start_time": "2022-03-24T05:43:58.926Z"
      },
      {
        "duration": 30,
        "start_time": "2022-03-24T05:44:08.716Z"
      },
      {
        "duration": 15,
        "start_time": "2022-03-24T05:46:38.075Z"
      },
      {
        "duration": 8,
        "start_time": "2022-03-24T05:47:13.172Z"
      },
      {
        "duration": 8,
        "start_time": "2022-03-24T05:47:27.258Z"
      },
      {
        "duration": 16,
        "start_time": "2022-03-24T06:06:29.547Z"
      },
      {
        "duration": 262,
        "start_time": "2022-03-24T06:06:38.421Z"
      },
      {
        "duration": 106,
        "start_time": "2022-03-24T06:07:42.498Z"
      },
      {
        "duration": 5,
        "start_time": "2022-03-24T06:07:45.788Z"
      },
      {
        "duration": 7,
        "start_time": "2022-03-24T06:07:47.046Z"
      },
      {
        "duration": 8,
        "start_time": "2022-03-24T06:07:49.510Z"
      },
      {
        "duration": 8,
        "start_time": "2022-03-24T06:07:50.968Z"
      },
      {
        "duration": 843,
        "start_time": "2022-03-24T06:07:54.530Z"
      },
      {
        "duration": 9,
        "start_time": "2022-03-24T06:08:01.922Z"
      },
      {
        "duration": 18,
        "start_time": "2022-03-24T06:08:05.016Z"
      },
      {
        "duration": 260,
        "start_time": "2022-03-24T06:08:07.022Z"
      },
      {
        "duration": 14,
        "start_time": "2022-03-24T06:08:29.058Z"
      },
      {
        "duration": 262,
        "start_time": "2022-03-24T06:08:29.652Z"
      },
      {
        "duration": 11,
        "start_time": "2022-03-24T06:09:26.201Z"
      },
      {
        "duration": 390,
        "start_time": "2022-03-24T06:09:27.932Z"
      },
      {
        "duration": 65,
        "start_time": "2022-03-24T18:44:21.113Z"
      },
      {
        "duration": 4,
        "start_time": "2022-03-24T18:48:32.076Z"
      },
      {
        "duration": 93,
        "start_time": "2022-03-24T18:48:33.145Z"
      },
      {
        "duration": 54,
        "start_time": "2022-03-24T18:48:33.980Z"
      },
      {
        "duration": 13,
        "start_time": "2022-03-24T18:48:37.423Z"
      },
      {
        "duration": 4,
        "start_time": "2022-03-24T18:48:40.961Z"
      },
      {
        "duration": 6,
        "start_time": "2022-03-24T18:48:42.314Z"
      },
      {
        "duration": 10,
        "start_time": "2022-03-24T18:48:46.514Z"
      },
      {
        "duration": 9,
        "start_time": "2022-03-24T18:48:48.473Z"
      },
      {
        "duration": 15,
        "start_time": "2022-03-24T18:48:50.907Z"
      },
      {
        "duration": 768,
        "start_time": "2022-03-24T18:48:55.874Z"
      },
      {
        "duration": 254,
        "start_time": "2022-03-24T18:50:28.138Z"
      },
      {
        "duration": 4,
        "start_time": "2022-03-24T18:50:35.558Z"
      },
      {
        "duration": 91,
        "start_time": "2022-03-24T18:50:35.928Z"
      },
      {
        "duration": 82,
        "start_time": "2022-03-24T18:50:36.275Z"
      },
      {
        "duration": 13,
        "start_time": "2022-03-24T18:50:41.183Z"
      },
      {
        "duration": 5,
        "start_time": "2022-03-24T18:50:43.843Z"
      },
      {
        "duration": 5,
        "start_time": "2022-03-24T18:50:44.288Z"
      },
      {
        "duration": 27,
        "start_time": "2022-03-24T18:50:45.005Z"
      },
      {
        "duration": 8,
        "start_time": "2022-03-24T18:50:48.148Z"
      },
      {
        "duration": 14,
        "start_time": "2022-03-24T18:50:49.011Z"
      },
      {
        "duration": 200,
        "start_time": "2022-03-24T18:50:52.268Z"
      },
      {
        "duration": 1122,
        "start_time": "2022-03-24T18:51:04.550Z"
      },
      {
        "duration": 281,
        "start_time": "2022-03-24T18:51:51.287Z"
      },
      {
        "duration": 259,
        "start_time": "2022-03-24T18:51:54.506Z"
      },
      {
        "duration": 230,
        "start_time": "2022-03-24T18:51:57.438Z"
      },
      {
        "duration": 216,
        "start_time": "2022-03-24T18:52:00.309Z"
      },
      {
        "duration": 285,
        "start_time": "2022-03-24T18:52:03.396Z"
      },
      {
        "duration": 8,
        "start_time": "2022-03-24T18:52:06.016Z"
      },
      {
        "duration": 14,
        "start_time": "2022-03-24T18:52:09.220Z"
      },
      {
        "duration": 267,
        "start_time": "2022-03-24T18:52:10.206Z"
      },
      {
        "duration": 22,
        "start_time": "2022-03-24T18:52:37.897Z"
      },
      {
        "duration": 2519,
        "start_time": "2022-03-24T18:52:44.289Z"
      },
      {
        "duration": 2429,
        "start_time": "2022-03-24T18:52:49.142Z"
      },
      {
        "duration": 6,
        "start_time": "2022-03-24T18:53:05.292Z"
      },
      {
        "duration": 23,
        "start_time": "2022-03-24T18:53:11.820Z"
      },
      {
        "duration": 2408,
        "start_time": "2022-03-24T18:55:55.561Z"
      },
      {
        "duration": 63,
        "start_time": "2022-03-24T18:56:07.767Z"
      },
      {
        "duration": 9,
        "start_time": "2022-03-24T18:56:36.209Z"
      },
      {
        "duration": 15,
        "start_time": "2022-03-24T18:56:39.846Z"
      },
      {
        "duration": 10,
        "start_time": "2022-03-24T18:56:43.872Z"
      },
      {
        "duration": 24,
        "start_time": "2022-03-24T18:56:53.844Z"
      },
      {
        "duration": 2994,
        "start_time": "2022-03-24T18:58:38.213Z"
      },
      {
        "duration": 2601,
        "start_time": "2022-03-24T18:58:56.238Z"
      },
      {
        "duration": 19,
        "start_time": "2022-03-24T18:59:15.225Z"
      },
      {
        "duration": 22,
        "start_time": "2022-03-24T18:59:24.464Z"
      },
      {
        "duration": 27,
        "start_time": "2022-03-24T19:03:22.861Z"
      },
      {
        "duration": 25,
        "start_time": "2022-03-24T19:04:14.108Z"
      },
      {
        "duration": 13,
        "start_time": "2022-03-24T19:04:45.719Z"
      },
      {
        "duration": 25,
        "start_time": "2022-03-24T19:04:58.512Z"
      },
      {
        "duration": 18,
        "start_time": "2022-03-24T19:05:20.055Z"
      },
      {
        "duration": 16,
        "start_time": "2022-03-24T19:06:48.477Z"
      },
      {
        "duration": 20,
        "start_time": "2022-03-24T19:07:46.439Z"
      },
      {
        "duration": 13,
        "start_time": "2022-03-24T19:37:12.388Z"
      },
      {
        "duration": 37,
        "start_time": "2022-03-24T19:37:23.798Z"
      },
      {
        "duration": 11,
        "start_time": "2022-03-24T19:37:58.986Z"
      },
      {
        "duration": 13,
        "start_time": "2022-03-24T19:38:29.831Z"
      },
      {
        "duration": 11,
        "start_time": "2022-03-24T19:39:48.131Z"
      },
      {
        "duration": 12,
        "start_time": "2022-03-24T19:39:56.686Z"
      },
      {
        "duration": 17,
        "start_time": "2022-03-24T19:42:01.376Z"
      },
      {
        "duration": 18,
        "start_time": "2022-03-24T19:42:13.147Z"
      },
      {
        "duration": 13,
        "start_time": "2022-03-24T19:43:08.131Z"
      },
      {
        "duration": 13,
        "start_time": "2022-03-24T19:43:18.974Z"
      },
      {
        "duration": 27,
        "start_time": "2022-03-24T19:44:55.667Z"
      },
      {
        "duration": 20,
        "start_time": "2022-03-24T19:45:13.173Z"
      },
      {
        "duration": 20,
        "start_time": "2022-03-24T19:45:51.152Z"
      },
      {
        "duration": 28,
        "start_time": "2022-03-24T19:46:11.490Z"
      },
      {
        "duration": 22,
        "start_time": "2022-03-24T19:46:30.821Z"
      },
      {
        "duration": 2522,
        "start_time": "2022-03-24T19:47:03.114Z"
      },
      {
        "duration": 674,
        "start_time": "2022-03-24T19:47:15.939Z"
      },
      {
        "duration": 22,
        "start_time": "2022-03-24T19:47:35.770Z"
      },
      {
        "duration": 26,
        "start_time": "2022-03-24T19:48:26.330Z"
      },
      {
        "duration": 21,
        "start_time": "2022-03-24T19:48:30.756Z"
      },
      {
        "duration": 33,
        "start_time": "2022-03-24T19:48:44.389Z"
      },
      {
        "duration": 25,
        "start_time": "2022-03-24T19:49:00.822Z"
      },
      {
        "duration": 11,
        "start_time": "2022-03-24T19:49:35.895Z"
      },
      {
        "duration": 21,
        "start_time": "2022-03-24T19:49:51.109Z"
      },
      {
        "duration": 25,
        "start_time": "2022-03-24T19:50:41.686Z"
      },
      {
        "duration": 75,
        "start_time": "2022-03-24T19:50:49.526Z"
      },
      {
        "duration": 49,
        "start_time": "2022-03-24T20:03:23.088Z"
      },
      {
        "duration": 49,
        "start_time": "2022-03-24T20:08:03.950Z"
      },
      {
        "duration": 37,
        "start_time": "2022-03-24T20:08:23.570Z"
      },
      {
        "duration": 38,
        "start_time": "2022-03-24T20:10:44.827Z"
      },
      {
        "duration": 38,
        "start_time": "2022-03-24T20:10:56.381Z"
      },
      {
        "duration": 43,
        "start_time": "2022-03-24T20:11:10.475Z"
      },
      {
        "duration": 42,
        "start_time": "2022-03-24T20:11:27.006Z"
      },
      {
        "duration": 154,
        "start_time": "2022-03-25T05:23:53.853Z"
      },
      {
        "duration": 42,
        "start_time": "2022-03-25T05:25:13.511Z"
      },
      {
        "duration": 398,
        "start_time": "2022-03-25T05:25:37.240Z"
      },
      {
        "duration": 4541,
        "start_time": "2022-03-25T05:25:37.640Z"
      },
      {
        "duration": 5855,
        "start_time": "2022-03-25T05:25:42.183Z"
      },
      {
        "duration": 3053,
        "start_time": "2022-03-25T05:25:51.707Z"
      },
      {
        "duration": 5,
        "start_time": "2022-03-25T05:25:59.196Z"
      },
      {
        "duration": 2520,
        "start_time": "2022-03-25T05:26:01.503Z"
      },
      {
        "duration": 734,
        "start_time": "2022-03-25T05:26:04.026Z"
      },
      {
        "duration": 6,
        "start_time": "2022-03-25T05:26:10.975Z"
      },
      {
        "duration": 3928,
        "start_time": "2022-03-25T05:26:12.623Z"
      },
      {
        "duration": 548,
        "start_time": "2022-03-25T05:26:20.095Z"
      },
      {
        "duration": 1087,
        "start_time": "2022-03-25T05:26:24.625Z"
      },
      {
        "duration": 3740,
        "start_time": "2022-03-25T05:26:28.699Z"
      },
      {
        "duration": 195,
        "start_time": "2022-03-25T05:26:39.265Z"
      },
      {
        "duration": 818,
        "start_time": "2022-03-25T05:26:42.111Z"
      },
      {
        "duration": 226,
        "start_time": "2022-03-25T05:26:47.601Z"
      },
      {
        "duration": 6,
        "start_time": "2022-03-25T05:26:50.856Z"
      },
      {
        "duration": 1875,
        "start_time": "2022-03-25T05:26:54.503Z"
      },
      {
        "duration": 231,
        "start_time": "2022-03-25T05:26:58.512Z"
      },
      {
        "duration": 10,
        "start_time": "2022-03-25T05:27:03.417Z"
      },
      {
        "duration": 19,
        "start_time": "2022-03-25T05:27:12.632Z"
      },
      {
        "duration": 26,
        "start_time": "2022-03-25T05:27:27.921Z"
      },
      {
        "duration": 25,
        "start_time": "2022-03-25T05:27:34.069Z"
      },
      {
        "duration": 8,
        "start_time": "2022-03-25T05:34:38.700Z"
      },
      {
        "duration": 46,
        "start_time": "2022-03-25T05:35:07.367Z"
      },
      {
        "duration": 14,
        "start_time": "2022-03-25T05:40:02.529Z"
      },
      {
        "duration": 1810,
        "start_time": "2022-03-25T05:40:20.968Z"
      },
      {
        "duration": 14,
        "start_time": "2022-03-25T05:40:40.818Z"
      },
      {
        "duration": 13,
        "start_time": "2022-03-25T05:41:53.014Z"
      },
      {
        "duration": 9,
        "start_time": "2022-03-25T05:42:03.968Z"
      },
      {
        "duration": 9,
        "start_time": "2022-03-25T05:42:56.957Z"
      },
      {
        "duration": 8,
        "start_time": "2022-03-25T05:43:11.782Z"
      },
      {
        "duration": 27,
        "start_time": "2022-03-25T05:43:16.789Z"
      },
      {
        "duration": 9,
        "start_time": "2022-03-25T05:44:03.539Z"
      },
      {
        "duration": 9,
        "start_time": "2022-03-25T05:44:22.173Z"
      },
      {
        "duration": 9,
        "start_time": "2022-03-25T05:44:32.631Z"
      },
      {
        "duration": 21,
        "start_time": "2022-03-25T05:45:07.545Z"
      },
      {
        "duration": 13,
        "start_time": "2022-03-25T05:45:44.388Z"
      },
      {
        "duration": 9,
        "start_time": "2022-03-25T05:45:53.520Z"
      },
      {
        "duration": 26,
        "start_time": "2022-03-25T05:45:59.430Z"
      },
      {
        "duration": 8,
        "start_time": "2022-03-25T05:46:32.058Z"
      },
      {
        "duration": 24,
        "start_time": "2022-03-25T05:48:03.800Z"
      },
      {
        "duration": 30,
        "start_time": "2022-03-25T05:50:37.951Z"
      },
      {
        "duration": 29,
        "start_time": "2022-03-25T05:50:47.819Z"
      },
      {
        "duration": 13,
        "start_time": "2022-03-25T05:52:24.551Z"
      },
      {
        "duration": 3,
        "start_time": "2022-03-25T05:52:45.690Z"
      },
      {
        "duration": 32,
        "start_time": "2022-03-25T05:52:51.421Z"
      },
      {
        "duration": 272,
        "start_time": "2022-03-25T05:53:46.673Z"
      },
      {
        "duration": 25,
        "start_time": "2022-03-25T05:53:53.044Z"
      },
      {
        "duration": 26,
        "start_time": "2022-03-25T05:54:29.172Z"
      },
      {
        "duration": 30,
        "start_time": "2022-03-25T05:54:36.540Z"
      },
      {
        "duration": 3,
        "start_time": "2022-03-25T05:54:47.746Z"
      },
      {
        "duration": 27,
        "start_time": "2022-03-25T05:55:01.167Z"
      },
      {
        "duration": 28,
        "start_time": "2022-03-25T05:55:16.891Z"
      },
      {
        "duration": 415,
        "start_time": "2022-03-26T17:52:24.954Z"
      },
      {
        "duration": 99,
        "start_time": "2022-03-26T17:52:33.216Z"
      },
      {
        "duration": 48,
        "start_time": "2022-03-26T17:52:34.049Z"
      },
      {
        "duration": 12,
        "start_time": "2022-03-26T17:52:39.767Z"
      },
      {
        "duration": 4,
        "start_time": "2022-03-26T17:52:41.729Z"
      },
      {
        "duration": 4,
        "start_time": "2022-03-26T17:52:43.528Z"
      },
      {
        "duration": 20,
        "start_time": "2022-03-26T17:52:44.108Z"
      },
      {
        "duration": 7,
        "start_time": "2022-03-26T17:52:47.002Z"
      },
      {
        "duration": 8,
        "start_time": "2022-03-26T17:52:49.541Z"
      },
      {
        "duration": 13,
        "start_time": "2022-03-26T17:52:50.297Z"
      },
      {
        "duration": 433,
        "start_time": "2022-03-26T17:52:53.059Z"
      },
      {
        "duration": 657,
        "start_time": "2022-03-26T17:52:55.799Z"
      },
      {
        "duration": 165,
        "start_time": "2022-03-26T17:52:56.568Z"
      },
      {
        "duration": 147,
        "start_time": "2022-03-26T17:52:58.065Z"
      },
      {
        "duration": 138,
        "start_time": "2022-03-26T17:52:59.152Z"
      },
      {
        "duration": 175,
        "start_time": "2022-03-26T17:53:04.134Z"
      },
      {
        "duration": 8,
        "start_time": "2022-03-26T17:53:05.650Z"
      },
      {
        "duration": 12,
        "start_time": "2022-03-26T17:53:09.684Z"
      },
      {
        "duration": 181,
        "start_time": "2022-03-26T17:53:10.690Z"
      },
      {
        "duration": 13,
        "start_time": "2022-03-26T17:53:14.889Z"
      },
      {
        "duration": 34,
        "start_time": "2022-03-26T17:53:23.835Z"
      },
      {
        "duration": 33,
        "start_time": "2022-03-26T17:53:28.183Z"
      },
      {
        "duration": 81,
        "start_time": "2022-03-26T17:56:12.359Z"
      },
      {
        "duration": 22,
        "start_time": "2022-03-26T17:56:17.692Z"
      },
      {
        "duration": 23,
        "start_time": "2022-03-26T17:56:32.371Z"
      },
      {
        "duration": 36,
        "start_time": "2022-03-26T17:57:00.362Z"
      },
      {
        "duration": 41,
        "start_time": "2022-03-26T17:58:23.187Z"
      },
      {
        "duration": 24,
        "start_time": "2022-03-26T17:58:28.044Z"
      },
      {
        "duration": 26,
        "start_time": "2022-03-26T17:58:34.786Z"
      },
      {
        "duration": 27,
        "start_time": "2022-03-26T18:03:43.222Z"
      },
      {
        "duration": 27,
        "start_time": "2022-03-26T18:03:46.827Z"
      },
      {
        "duration": 32,
        "start_time": "2022-03-26T18:03:58.860Z"
      },
      {
        "duration": 26,
        "start_time": "2022-03-26T18:04:01.660Z"
      },
      {
        "duration": 25,
        "start_time": "2022-03-26T18:04:06.148Z"
      },
      {
        "duration": 41,
        "start_time": "2022-03-26T18:14:11.651Z"
      },
      {
        "duration": 26,
        "start_time": "2022-03-26T18:14:39.219Z"
      },
      {
        "duration": 43,
        "start_time": "2022-03-26T18:17:17.337Z"
      },
      {
        "duration": 25,
        "start_time": "2022-03-26T18:17:48.200Z"
      },
      {
        "duration": 45,
        "start_time": "2022-03-26T18:18:03.783Z"
      },
      {
        "duration": 20,
        "start_time": "2022-03-26T18:19:10.596Z"
      },
      {
        "duration": 18,
        "start_time": "2022-03-26T18:19:30.847Z"
      },
      {
        "duration": 26,
        "start_time": "2022-03-26T18:19:42.417Z"
      },
      {
        "duration": 26,
        "start_time": "2022-03-26T18:20:31.176Z"
      },
      {
        "duration": 174,
        "start_time": "2022-03-26T18:23:07.102Z"
      },
      {
        "duration": 26,
        "start_time": "2022-03-26T18:23:48.404Z"
      },
      {
        "duration": 25,
        "start_time": "2022-03-26T18:24:12.653Z"
      },
      {
        "duration": 25,
        "start_time": "2022-03-26T18:24:19.198Z"
      },
      {
        "duration": 146,
        "start_time": "2022-03-26T18:24:48.093Z"
      },
      {
        "duration": 25,
        "start_time": "2022-03-26T18:26:17.742Z"
      },
      {
        "duration": 24,
        "start_time": "2022-03-26T18:26:53.568Z"
      },
      {
        "duration": 266,
        "start_time": "2022-03-26T18:28:31.378Z"
      },
      {
        "duration": 149,
        "start_time": "2022-03-26T18:29:40.440Z"
      },
      {
        "duration": 227,
        "start_time": "2022-03-26T18:30:01.122Z"
      },
      {
        "duration": 174,
        "start_time": "2022-03-26T18:31:25.231Z"
      },
      {
        "duration": 424,
        "start_time": "2022-03-26T18:33:45.842Z"
      },
      {
        "duration": 187,
        "start_time": "2022-03-26T18:33:54.517Z"
      },
      {
        "duration": 183,
        "start_time": "2022-03-26T18:35:07.116Z"
      },
      {
        "duration": 171,
        "start_time": "2022-03-26T18:35:13.779Z"
      },
      {
        "duration": 299,
        "start_time": "2022-03-26T18:35:53.279Z"
      },
      {
        "duration": 378,
        "start_time": "2022-03-26T18:36:19.137Z"
      },
      {
        "duration": 399,
        "start_time": "2022-03-26T18:36:40.075Z"
      },
      {
        "duration": 290,
        "start_time": "2022-03-26T18:37:03.611Z"
      },
      {
        "duration": 2116,
        "start_time": "2022-03-26T18:38:11.456Z"
      },
      {
        "duration": 242,
        "start_time": "2022-03-26T18:38:31.244Z"
      },
      {
        "duration": 156,
        "start_time": "2022-03-26T18:38:45.780Z"
      },
      {
        "duration": 278,
        "start_time": "2022-03-26T18:38:55.256Z"
      },
      {
        "duration": 2226,
        "start_time": "2022-03-26T18:39:42.251Z"
      },
      {
        "duration": 282,
        "start_time": "2022-03-26T18:39:59.432Z"
      },
      {
        "duration": 2317,
        "start_time": "2022-03-26T18:40:04.335Z"
      },
      {
        "duration": 293,
        "start_time": "2022-03-26T18:40:08.210Z"
      },
      {
        "duration": 18,
        "start_time": "2022-03-26T18:41:57.525Z"
      },
      {
        "duration": 17,
        "start_time": "2022-03-26T18:42:02.809Z"
      },
      {
        "duration": 16,
        "start_time": "2022-03-26T18:46:18.652Z"
      },
      {
        "duration": 2,
        "start_time": "2022-03-26T18:46:32.111Z"
      },
      {
        "duration": 16,
        "start_time": "2022-03-26T18:46:37.474Z"
      },
      {
        "duration": 17,
        "start_time": "2022-03-26T18:46:54.855Z"
      },
      {
        "duration": 312,
        "start_time": "2022-03-26T18:47:03.943Z"
      },
      {
        "duration": 329,
        "start_time": "2022-03-26T18:47:20.017Z"
      },
      {
        "duration": 2457,
        "start_time": "2022-03-26T18:47:56.780Z"
      },
      {
        "duration": 423,
        "start_time": "2022-03-26T18:48:11.402Z"
      },
      {
        "duration": 284,
        "start_time": "2022-03-26T18:48:38.479Z"
      },
      {
        "duration": 290,
        "start_time": "2022-03-26T18:48:51.277Z"
      },
      {
        "duration": 457,
        "start_time": "2022-03-26T18:49:36.421Z"
      },
      {
        "duration": 291,
        "start_time": "2022-03-26T18:49:52.160Z"
      },
      {
        "duration": 300,
        "start_time": "2022-03-26T18:51:39.845Z"
      },
      {
        "duration": 292,
        "start_time": "2022-03-26T18:52:45.990Z"
      },
      {
        "duration": 17,
        "start_time": "2022-03-26T18:52:51.339Z"
      },
      {
        "duration": 18,
        "start_time": "2022-03-26T18:53:18.979Z"
      },
      {
        "duration": 17,
        "start_time": "2022-03-26T18:53:59.765Z"
      },
      {
        "duration": 19,
        "start_time": "2022-03-26T18:54:04.726Z"
      },
      {
        "duration": 17,
        "start_time": "2022-03-26T18:56:54.584Z"
      },
      {
        "duration": 289,
        "start_time": "2022-03-26T18:57:02.238Z"
      },
      {
        "duration": 432,
        "start_time": "2022-03-26T18:57:06.493Z"
      },
      {
        "duration": 308,
        "start_time": "2022-03-26T18:57:39.257Z"
      },
      {
        "duration": 48291,
        "start_time": "2022-03-26T18:59:33.647Z"
      },
      {
        "duration": 19,
        "start_time": "2022-03-26T19:00:29.342Z"
      },
      {
        "duration": 18,
        "start_time": "2022-03-26T19:00:40.588Z"
      },
      {
        "duration": 16,
        "start_time": "2022-03-26T19:01:43.398Z"
      },
      {
        "duration": 17,
        "start_time": "2022-03-26T19:04:45.871Z"
      },
      {
        "duration": 49489,
        "start_time": "2022-03-26T19:04:53.327Z"
      },
      {
        "duration": 24,
        "start_time": "2022-03-26T19:07:10.651Z"
      },
      {
        "duration": 48936,
        "start_time": "2022-03-26T19:09:30.437Z"
      },
      {
        "duration": 17,
        "start_time": "2022-03-26T19:10:31.802Z"
      },
      {
        "duration": 17,
        "start_time": "2022-03-26T19:10:46.839Z"
      },
      {
        "duration": 17,
        "start_time": "2022-03-26T19:11:36.702Z"
      },
      {
        "duration": 21,
        "start_time": "2022-03-26T19:11:57.169Z"
      },
      {
        "duration": 22,
        "start_time": "2022-03-26T19:12:11.422Z"
      },
      {
        "duration": 301,
        "start_time": "2022-03-26T19:12:28.864Z"
      },
      {
        "duration": 309,
        "start_time": "2022-03-26T19:12:37.094Z"
      },
      {
        "duration": 28,
        "start_time": "2022-03-26T19:20:07.933Z"
      },
      {
        "duration": 2344,
        "start_time": "2022-03-26T19:22:35.757Z"
      },
      {
        "duration": 10,
        "start_time": "2022-03-26T19:22:51.405Z"
      },
      {
        "duration": 27,
        "start_time": "2022-03-26T19:23:12.994Z"
      },
      {
        "duration": 2235,
        "start_time": "2022-03-26T19:23:28.515Z"
      },
      {
        "duration": 23,
        "start_time": "2022-03-26T19:24:02.799Z"
      },
      {
        "duration": 16,
        "start_time": "2022-03-26T19:24:14.952Z"
      },
      {
        "duration": 21,
        "start_time": "2022-03-26T19:24:33.450Z"
      },
      {
        "duration": 14,
        "start_time": "2022-03-26T19:24:54.085Z"
      },
      {
        "duration": 13,
        "start_time": "2022-03-26T19:24:56.960Z"
      },
      {
        "duration": 24,
        "start_time": "2022-03-26T19:26:01.329Z"
      },
      {
        "duration": 18,
        "start_time": "2022-03-26T19:26:13.722Z"
      },
      {
        "duration": 19,
        "start_time": "2022-03-26T19:26:23.002Z"
      },
      {
        "duration": 14,
        "start_time": "2022-03-26T19:27:05.032Z"
      },
      {
        "duration": 16,
        "start_time": "2022-03-26T19:27:09.743Z"
      },
      {
        "duration": 14,
        "start_time": "2022-03-26T19:32:28.565Z"
      },
      {
        "duration": 14,
        "start_time": "2022-03-26T19:32:44.428Z"
      },
      {
        "duration": 15,
        "start_time": "2022-03-26T19:32:48.370Z"
      },
      {
        "duration": 14,
        "start_time": "2022-03-26T19:33:55.291Z"
      },
      {
        "duration": 16,
        "start_time": "2022-03-26T19:34:52.654Z"
      },
      {
        "duration": 11,
        "start_time": "2022-03-26T19:38:03.821Z"
      },
      {
        "duration": 14,
        "start_time": "2022-03-26T19:41:34.838Z"
      },
      {
        "duration": 138,
        "start_time": "2022-03-26T19:54:42.858Z"
      },
      {
        "duration": 2420,
        "start_time": "2022-03-26T19:55:05.404Z"
      },
      {
        "duration": 3,
        "start_time": "2022-03-26T19:55:38.486Z"
      },
      {
        "duration": 124,
        "start_time": "2022-03-26T19:55:40.201Z"
      },
      {
        "duration": 42,
        "start_time": "2022-03-26T19:55:40.936Z"
      },
      {
        "duration": 11,
        "start_time": "2022-03-26T19:55:44.970Z"
      },
      {
        "duration": 5,
        "start_time": "2022-03-26T19:55:47.700Z"
      },
      {
        "duration": 4,
        "start_time": "2022-03-26T19:55:49.151Z"
      },
      {
        "duration": 19,
        "start_time": "2022-03-26T19:55:53.070Z"
      },
      {
        "duration": 7,
        "start_time": "2022-03-26T19:55:55.832Z"
      },
      {
        "duration": 4153,
        "start_time": "2022-03-26T19:55:58.540Z"
      },
      {
        "duration": 871,
        "start_time": "2022-03-26T19:58:43.882Z"
      },
      {
        "duration": 22,
        "start_time": "2022-03-26T20:00:46.361Z"
      },
      {
        "duration": 6,
        "start_time": "2022-03-26T20:00:59.972Z"
      },
      {
        "duration": 17,
        "start_time": "2022-03-26T20:01:03.224Z"
      },
      {
        "duration": 40,
        "start_time": "2022-03-26T20:01:15.880Z"
      },
      {
        "duration": 11,
        "start_time": "2022-03-26T20:01:22.132Z"
      },
      {
        "duration": 7,
        "start_time": "2022-03-26T20:02:34.348Z"
      },
      {
        "duration": 11,
        "start_time": "2022-03-26T20:02:36.027Z"
      },
      {
        "duration": 382,
        "start_time": "2022-03-26T20:02:38.712Z"
      },
      {
        "duration": 23,
        "start_time": "2022-03-26T20:04:36.391Z"
      },
      {
        "duration": 30,
        "start_time": "2022-03-26T20:05:23.182Z"
      },
      {
        "duration": 3,
        "start_time": "2022-03-26T20:06:36.505Z"
      },
      {
        "duration": 78,
        "start_time": "2022-03-26T20:06:37.064Z"
      },
      {
        "duration": 38,
        "start_time": "2022-03-26T20:06:37.487Z"
      },
      {
        "duration": 10,
        "start_time": "2022-03-26T20:06:41.824Z"
      },
      {
        "duration": 3,
        "start_time": "2022-03-26T20:06:44.926Z"
      },
      {
        "duration": 4,
        "start_time": "2022-03-26T20:06:46.522Z"
      },
      {
        "duration": 7,
        "start_time": "2022-03-26T20:06:49.071Z"
      },
      {
        "duration": 6,
        "start_time": "2022-03-26T20:06:53.059Z"
      },
      {
        "duration": 11,
        "start_time": "2022-03-26T20:06:54.291Z"
      },
      {
        "duration": 15,
        "start_time": "2022-03-26T20:07:06.490Z"
      },
      {
        "duration": 13,
        "start_time": "2022-03-26T20:11:46.544Z"
      },
      {
        "duration": 13,
        "start_time": "2022-03-26T20:11:56.008Z"
      },
      {
        "duration": 17,
        "start_time": "2022-03-26T20:11:58.462Z"
      },
      {
        "duration": 15,
        "start_time": "2022-03-26T20:12:05.282Z"
      },
      {
        "duration": 13,
        "start_time": "2022-03-26T20:13:09.667Z"
      },
      {
        "duration": 51,
        "start_time": "2022-03-26T20:13:17.839Z"
      },
      {
        "duration": 11,
        "start_time": "2022-03-26T20:13:23.754Z"
      },
      {
        "duration": 11,
        "start_time": "2022-03-26T20:13:42.957Z"
      },
      {
        "duration": 52,
        "start_time": "2022-03-26T20:14:01.139Z"
      },
      {
        "duration": 12,
        "start_time": "2022-03-26T20:14:03.739Z"
      },
      {
        "duration": 16,
        "start_time": "2022-03-26T20:14:10.671Z"
      },
      {
        "duration": 6,
        "start_time": "2022-03-26T20:14:23.718Z"
      },
      {
        "duration": 135,
        "start_time": "2022-03-26T20:14:43.043Z"
      },
      {
        "duration": 9,
        "start_time": "2022-03-26T20:14:50.525Z"
      },
      {
        "duration": 6,
        "start_time": "2022-03-26T20:15:10.552Z"
      },
      {
        "duration": 16,
        "start_time": "2022-03-26T20:16:34.702Z"
      },
      {
        "duration": 50,
        "start_time": "2022-03-26T20:20:22.788Z"
      },
      {
        "duration": 47,
        "start_time": "2022-03-26T20:23:16.776Z"
      },
      {
        "duration": 8,
        "start_time": "2022-03-26T20:24:17.223Z"
      },
      {
        "duration": 8,
        "start_time": "2022-03-26T20:24:42.323Z"
      },
      {
        "duration": 50,
        "start_time": "2022-03-26T20:24:59.876Z"
      },
      {
        "duration": 54,
        "start_time": "2022-03-26T20:25:12.042Z"
      },
      {
        "duration": 8,
        "start_time": "2022-03-26T20:25:28.449Z"
      },
      {
        "duration": 13,
        "start_time": "2022-03-26T20:25:32.338Z"
      },
      {
        "duration": 53,
        "start_time": "2022-03-26T20:26:32.006Z"
      },
      {
        "duration": 51,
        "start_time": "2022-03-26T20:27:29.010Z"
      },
      {
        "duration": 22,
        "start_time": "2022-03-26T20:27:45.962Z"
      },
      {
        "duration": 18,
        "start_time": "2022-03-26T20:28:00.840Z"
      },
      {
        "duration": 16,
        "start_time": "2022-03-26T20:28:08.817Z"
      },
      {
        "duration": 10,
        "start_time": "2022-03-26T20:39:19.417Z"
      },
      {
        "duration": 26,
        "start_time": "2022-03-26T20:40:28.195Z"
      },
      {
        "duration": 106,
        "start_time": "2022-03-26T20:42:07.627Z"
      },
      {
        "duration": 12,
        "start_time": "2022-03-26T20:42:13.944Z"
      },
      {
        "duration": 23,
        "start_time": "2022-03-26T20:43:28.527Z"
      },
      {
        "duration": 3,
        "start_time": "2022-03-26T20:43:41.720Z"
      },
      {
        "duration": 78,
        "start_time": "2022-03-26T20:43:42.202Z"
      },
      {
        "duration": 39,
        "start_time": "2022-03-26T20:43:42.853Z"
      },
      {
        "duration": 11,
        "start_time": "2022-03-26T20:43:47.459Z"
      },
      {
        "duration": 5,
        "start_time": "2022-03-26T20:43:50.330Z"
      },
      {
        "duration": 4,
        "start_time": "2022-03-26T20:43:51.940Z"
      },
      {
        "duration": 7,
        "start_time": "2022-03-26T20:43:55.208Z"
      },
      {
        "duration": 22,
        "start_time": "2022-03-26T20:43:57.614Z"
      },
      {
        "duration": 104,
        "start_time": "2022-03-26T20:44:43.835Z"
      },
      {
        "duration": 11,
        "start_time": "2022-03-26T20:44:47.967Z"
      },
      {
        "duration": 21,
        "start_time": "2022-03-26T20:45:07.326Z"
      },
      {
        "duration": 585,
        "start_time": "2022-03-26T20:47:27.954Z"
      },
      {
        "duration": 28,
        "start_time": "2022-03-26T20:48:42.533Z"
      },
      {
        "duration": 31,
        "start_time": "2022-03-26T20:49:25.610Z"
      },
      {
        "duration": 200,
        "start_time": "2022-03-26T20:51:41.635Z"
      },
      {
        "duration": 26,
        "start_time": "2022-03-26T20:52:29.492Z"
      },
      {
        "duration": 11,
        "start_time": "2022-03-26T20:52:32.620Z"
      },
      {
        "duration": 135,
        "start_time": "2022-03-26T20:54:08.790Z"
      },
      {
        "duration": 16,
        "start_time": "2022-03-26T20:54:12.113Z"
      },
      {
        "duration": 12,
        "start_time": "2022-03-26T20:54:13.757Z"
      },
      {
        "duration": 3,
        "start_time": "2022-03-26T20:54:40.226Z"
      },
      {
        "duration": 110,
        "start_time": "2022-03-26T20:54:40.729Z"
      },
      {
        "duration": 50,
        "start_time": "2022-03-26T20:54:41.736Z"
      },
      {
        "duration": 13,
        "start_time": "2022-03-26T20:54:45.645Z"
      },
      {
        "duration": 5,
        "start_time": "2022-03-26T20:54:49.570Z"
      },
      {
        "duration": 5,
        "start_time": "2022-03-26T20:54:50.078Z"
      },
      {
        "duration": 21,
        "start_time": "2022-03-26T20:54:52.510Z"
      },
      {
        "duration": 8,
        "start_time": "2022-03-26T20:54:55.073Z"
      },
      {
        "duration": 19,
        "start_time": "2022-03-26T20:54:57.766Z"
      },
      {
        "duration": 10,
        "start_time": "2022-03-26T20:54:59.737Z"
      },
      {
        "duration": 25,
        "start_time": "2022-03-26T20:55:49.221Z"
      },
      {
        "duration": 11,
        "start_time": "2022-03-26T20:55:51.419Z"
      },
      {
        "duration": 29,
        "start_time": "2022-03-26T20:56:20.637Z"
      },
      {
        "duration": 12,
        "start_time": "2022-03-26T20:56:23.242Z"
      },
      {
        "duration": 47,
        "start_time": "2022-03-26T20:58:41.825Z"
      },
      {
        "duration": 11,
        "start_time": "2022-03-26T20:58:43.616Z"
      },
      {
        "duration": 59,
        "start_time": "2022-03-26T20:59:03.610Z"
      },
      {
        "duration": 12,
        "start_time": "2022-03-26T20:59:05.045Z"
      },
      {
        "duration": 49,
        "start_time": "2022-03-26T20:59:28.916Z"
      },
      {
        "duration": 11,
        "start_time": "2022-03-26T20:59:30.664Z"
      },
      {
        "duration": 24,
        "start_time": "2022-03-26T21:01:10.319Z"
      },
      {
        "duration": 10,
        "start_time": "2022-03-26T21:01:12.584Z"
      },
      {
        "duration": 22,
        "start_time": "2022-03-26T21:01:24.336Z"
      },
      {
        "duration": 7,
        "start_time": "2022-03-26T21:02:18.238Z"
      },
      {
        "duration": 3,
        "start_time": "2022-03-26T21:02:24.067Z"
      },
      {
        "duration": 83,
        "start_time": "2022-03-26T21:02:24.709Z"
      },
      {
        "duration": 41,
        "start_time": "2022-03-26T21:02:25.553Z"
      },
      {
        "duration": 12,
        "start_time": "2022-03-26T21:02:31.177Z"
      },
      {
        "duration": 4,
        "start_time": "2022-03-26T21:02:34.241Z"
      },
      {
        "duration": 4,
        "start_time": "2022-03-26T21:02:35.881Z"
      },
      {
        "duration": 19,
        "start_time": "2022-03-26T21:02:41.069Z"
      },
      {
        "duration": 7,
        "start_time": "2022-03-26T21:02:44.173Z"
      },
      {
        "duration": 27,
        "start_time": "2022-03-26T21:03:00.608Z"
      },
      {
        "duration": 12,
        "start_time": "2022-03-26T21:03:06.401Z"
      },
      {
        "duration": 9,
        "start_time": "2022-03-26T21:03:11.909Z"
      },
      {
        "duration": 621,
        "start_time": "2022-03-26T21:03:14.151Z"
      },
      {
        "duration": 174,
        "start_time": "2022-03-26T21:03:17.919Z"
      },
      {
        "duration": 231,
        "start_time": "2022-03-26T21:03:19.022Z"
      },
      {
        "duration": 162,
        "start_time": "2022-03-26T21:03:21.294Z"
      },
      {
        "duration": 149,
        "start_time": "2022-03-26T21:03:23.127Z"
      },
      {
        "duration": 187,
        "start_time": "2022-03-26T21:03:25.703Z"
      },
      {
        "duration": 6,
        "start_time": "2022-03-26T21:03:27.702Z"
      },
      {
        "duration": 10,
        "start_time": "2022-03-26T21:03:30.089Z"
      },
      {
        "duration": 175,
        "start_time": "2022-03-26T21:03:30.926Z"
      },
      {
        "duration": 12,
        "start_time": "2022-03-26T21:03:33.876Z"
      },
      {
        "duration": 30,
        "start_time": "2022-03-26T21:03:42.199Z"
      },
      {
        "duration": 291,
        "start_time": "2022-03-26T21:04:12.503Z"
      },
      {
        "duration": 9,
        "start_time": "2022-03-26T21:04:23.134Z"
      },
      {
        "duration": 176,
        "start_time": "2022-04-07T16:02:32.665Z"
      },
      {
        "duration": 177,
        "start_time": "2022-04-07T16:03:22.221Z"
      },
      {
        "duration": 208,
        "start_time": "2022-04-07T16:09:47.948Z"
      },
      {
        "duration": 370,
        "start_time": "2022-04-07T16:16:48.676Z"
      },
      {
        "duration": 88,
        "start_time": "2022-04-07T16:16:50.034Z"
      },
      {
        "duration": 46,
        "start_time": "2022-04-07T16:16:51.401Z"
      },
      {
        "duration": 9,
        "start_time": "2022-04-07T16:16:55.654Z"
      },
      {
        "duration": 3,
        "start_time": "2022-04-07T16:16:58.503Z"
      },
      {
        "duration": 3,
        "start_time": "2022-04-07T16:17:01.015Z"
      },
      {
        "duration": 18,
        "start_time": "2022-04-07T16:17:01.912Z"
      },
      {
        "duration": 6,
        "start_time": "2022-04-07T16:17:03.997Z"
      },
      {
        "duration": 28,
        "start_time": "2022-04-07T16:17:06.666Z"
      },
      {
        "duration": 10,
        "start_time": "2022-04-07T16:17:08.452Z"
      },
      {
        "duration": 10,
        "start_time": "2022-04-07T16:17:10.156Z"
      },
      {
        "duration": 398,
        "start_time": "2022-04-07T16:17:14.391Z"
      },
      {
        "duration": 652,
        "start_time": "2022-04-07T16:17:18.559Z"
      },
      {
        "duration": 186,
        "start_time": "2022-04-07T16:17:26.314Z"
      },
      {
        "duration": 157,
        "start_time": "2022-04-07T16:17:42.137Z"
      },
      {
        "duration": 167,
        "start_time": "2022-04-07T16:17:46.398Z"
      },
      {
        "duration": 179,
        "start_time": "2022-04-07T16:17:53.900Z"
      },
      {
        "duration": 6,
        "start_time": "2022-04-07T16:18:13.705Z"
      },
      {
        "duration": 17,
        "start_time": "2022-04-07T16:18:25.808Z"
      },
      {
        "duration": 197,
        "start_time": "2022-04-07T16:18:27.922Z"
      },
      {
        "duration": 10,
        "start_time": "2022-04-07T16:19:00.693Z"
      },
      {
        "duration": 194,
        "start_time": "2022-04-07T16:19:02.732Z"
      },
      {
        "duration": 18,
        "start_time": "2022-04-07T16:20:03.524Z"
      },
      {
        "duration": 173,
        "start_time": "2022-04-07T16:20:05.568Z"
      },
      {
        "duration": 86,
        "start_time": "2022-04-07T16:20:38.694Z"
      },
      {
        "duration": 39,
        "start_time": "2022-04-07T16:20:39.372Z"
      },
      {
        "duration": 10,
        "start_time": "2022-04-07T16:20:43.220Z"
      },
      {
        "duration": 4,
        "start_time": "2022-04-07T16:20:46.597Z"
      },
      {
        "duration": 3,
        "start_time": "2022-04-07T16:20:48.500Z"
      },
      {
        "duration": 22,
        "start_time": "2022-04-07T16:20:49.188Z"
      },
      {
        "duration": 7,
        "start_time": "2022-04-07T16:20:51.251Z"
      },
      {
        "duration": 27,
        "start_time": "2022-04-07T16:20:53.763Z"
      },
      {
        "duration": 10,
        "start_time": "2022-04-07T16:20:56.193Z"
      },
      {
        "duration": 8,
        "start_time": "2022-04-07T16:20:58.583Z"
      },
      {
        "duration": 403,
        "start_time": "2022-04-07T16:21:02.550Z"
      },
      {
        "duration": 250,
        "start_time": "2022-04-07T16:21:07.119Z"
      },
      {
        "duration": 177,
        "start_time": "2022-04-07T16:21:10.078Z"
      },
      {
        "duration": 153,
        "start_time": "2022-04-07T16:21:16.586Z"
      },
      {
        "duration": 158,
        "start_time": "2022-04-07T16:21:19.949Z"
      },
      {
        "duration": 189,
        "start_time": "2022-04-07T16:21:24.469Z"
      },
      {
        "duration": 6,
        "start_time": "2022-04-07T16:21:27.640Z"
      },
      {
        "duration": 11,
        "start_time": "2022-04-07T16:21:33.280Z"
      },
      {
        "duration": 221,
        "start_time": "2022-04-07T16:21:35.051Z"
      },
      {
        "duration": 13,
        "start_time": "2022-04-07T16:21:47.771Z"
      },
      {
        "duration": 176,
        "start_time": "2022-04-07T16:21:50.977Z"
      },
      {
        "duration": 15,
        "start_time": "2022-04-07T16:22:11.097Z"
      },
      {
        "duration": 165,
        "start_time": "2022-04-07T16:22:13.092Z"
      },
      {
        "duration": 16,
        "start_time": "2022-04-07T16:22:16.487Z"
      },
      {
        "duration": 185,
        "start_time": "2022-04-07T16:22:18.454Z"
      },
      {
        "duration": 84,
        "start_time": "2022-04-07T16:22:30.080Z"
      },
      {
        "duration": 38,
        "start_time": "2022-04-07T16:22:30.558Z"
      },
      {
        "duration": 9,
        "start_time": "2022-04-07T16:22:33.911Z"
      },
      {
        "duration": 3,
        "start_time": "2022-04-07T16:22:36.630Z"
      },
      {
        "duration": 4,
        "start_time": "2022-04-07T16:22:38.057Z"
      },
      {
        "duration": 18,
        "start_time": "2022-04-07T16:22:39.441Z"
      },
      {
        "duration": 7,
        "start_time": "2022-04-07T16:22:41.561Z"
      },
      {
        "duration": 25,
        "start_time": "2022-04-07T16:22:43.176Z"
      },
      {
        "duration": 10,
        "start_time": "2022-04-07T16:22:45.658Z"
      },
      {
        "duration": 8,
        "start_time": "2022-04-07T16:22:48.227Z"
      },
      {
        "duration": 436,
        "start_time": "2022-04-07T16:22:51.152Z"
      },
      {
        "duration": 173,
        "start_time": "2022-04-07T16:22:55.163Z"
      },
      {
        "duration": 165,
        "start_time": "2022-04-07T16:22:57.279Z"
      },
      {
        "duration": 143,
        "start_time": "2022-04-07T16:22:59.563Z"
      },
      {
        "duration": 157,
        "start_time": "2022-04-07T16:23:02.198Z"
      },
      {
        "duration": 179,
        "start_time": "2022-04-07T16:23:07.510Z"
      },
      {
        "duration": 6,
        "start_time": "2022-04-07T16:23:09.979Z"
      },
      {
        "duration": 16,
        "start_time": "2022-04-07T16:23:12.733Z"
      },
      {
        "duration": 181,
        "start_time": "2022-04-07T16:23:14.226Z"
      },
      {
        "duration": 164,
        "start_time": "2022-04-07T16:23:40.542Z"
      },
      {
        "duration": 89,
        "start_time": "2022-04-07T16:28:22.402Z"
      },
      {
        "duration": 10,
        "start_time": "2022-04-07T16:28:29.857Z"
      },
      {
        "duration": 9,
        "start_time": "2022-04-07T16:28:36.023Z"
      },
      {
        "duration": 158,
        "start_time": "2022-04-07T16:28:38.823Z"
      },
      {
        "duration": 4701,
        "start_time": "2022-04-07T16:29:30.051Z"
      },
      {
        "duration": 4241,
        "start_time": "2022-04-07T16:30:34.626Z"
      },
      {
        "duration": 2701,
        "start_time": "2022-04-07T16:31:27.014Z"
      },
      {
        "duration": 2829,
        "start_time": "2022-04-07T16:31:42.556Z"
      },
      {
        "duration": 721,
        "start_time": "2022-04-07T16:32:07.601Z"
      },
      {
        "duration": 662,
        "start_time": "2022-04-07T16:32:37.291Z"
      },
      {
        "duration": 882,
        "start_time": "2022-04-07T16:34:14.619Z"
      },
      {
        "duration": 1214,
        "start_time": "2022-04-07T16:34:34.684Z"
      },
      {
        "duration": 516,
        "start_time": "2022-04-07T16:37:04.537Z"
      },
      {
        "duration": 3,
        "start_time": "2022-04-07T16:37:32.560Z"
      },
      {
        "duration": 96,
        "start_time": "2022-04-07T16:37:32.941Z"
      },
      {
        "duration": 39,
        "start_time": "2022-04-07T16:37:33.317Z"
      },
      {
        "duration": 10,
        "start_time": "2022-04-07T16:37:37.530Z"
      },
      {
        "duration": 4,
        "start_time": "2022-04-07T16:37:40.136Z"
      },
      {
        "duration": 4,
        "start_time": "2022-04-07T16:37:42.431Z"
      },
      {
        "duration": 23,
        "start_time": "2022-04-07T16:37:43.565Z"
      },
      {
        "duration": 6,
        "start_time": "2022-04-07T16:37:45.506Z"
      },
      {
        "duration": 28,
        "start_time": "2022-04-07T16:37:48.110Z"
      },
      {
        "duration": 10,
        "start_time": "2022-04-07T16:37:51.075Z"
      },
      {
        "duration": 10,
        "start_time": "2022-04-07T16:37:53.689Z"
      },
      {
        "duration": 643,
        "start_time": "2022-04-07T16:37:58.731Z"
      },
      {
        "duration": 189,
        "start_time": "2022-04-07T16:38:03.852Z"
      },
      {
        "duration": 189,
        "start_time": "2022-04-07T16:38:06.830Z"
      },
      {
        "duration": 167,
        "start_time": "2022-04-07T16:38:10.333Z"
      },
      {
        "duration": 150,
        "start_time": "2022-04-07T16:38:12.656Z"
      },
      {
        "duration": 198,
        "start_time": "2022-04-07T16:38:15.996Z"
      },
      {
        "duration": 6,
        "start_time": "2022-04-07T16:38:18.155Z"
      },
      {
        "duration": 18,
        "start_time": "2022-04-07T16:38:21.044Z"
      },
      {
        "duration": 173,
        "start_time": "2022-04-07T16:38:23.554Z"
      },
      {
        "duration": 8,
        "start_time": "2022-04-07T16:38:31.089Z"
      },
      {
        "duration": 521,
        "start_time": "2022-04-07T16:39:32.639Z"
      },
      {
        "duration": 678,
        "start_time": "2022-04-07T16:39:51.528Z"
      },
      {
        "duration": 4918,
        "start_time": "2022-04-07T16:40:15.961Z"
      },
      {
        "duration": 671,
        "start_time": "2022-04-07T16:40:30.824Z"
      },
      {
        "duration": 16,
        "start_time": "2022-04-07T16:41:05.147Z"
      },
      {
        "duration": 178,
        "start_time": "2022-04-07T16:41:07.329Z"
      },
      {
        "duration": 9,
        "start_time": "2022-04-07T16:41:10.083Z"
      },
      {
        "duration": 85,
        "start_time": "2022-04-07T16:41:57.959Z"
      },
      {
        "duration": 41,
        "start_time": "2022-04-07T16:41:58.413Z"
      },
      {
        "duration": 10,
        "start_time": "2022-04-07T16:42:01.657Z"
      },
      {
        "duration": 4,
        "start_time": "2022-04-07T16:42:05.224Z"
      },
      {
        "duration": 3,
        "start_time": "2022-04-07T16:42:06.835Z"
      },
      {
        "duration": 18,
        "start_time": "2022-04-07T16:42:07.745Z"
      },
      {
        "duration": 6,
        "start_time": "2022-04-07T16:42:09.751Z"
      },
      {
        "duration": 27,
        "start_time": "2022-04-07T16:42:12.501Z"
      },
      {
        "duration": 10,
        "start_time": "2022-04-07T16:42:14.628Z"
      },
      {
        "duration": 8,
        "start_time": "2022-04-07T16:42:17.236Z"
      },
      {
        "duration": 367,
        "start_time": "2022-04-07T16:42:20.375Z"
      },
      {
        "duration": 186,
        "start_time": "2022-04-07T16:42:23.983Z"
      },
      {
        "duration": 175,
        "start_time": "2022-04-07T16:42:28.252Z"
      },
      {
        "duration": 159,
        "start_time": "2022-04-07T16:42:32.870Z"
      },
      {
        "duration": 162,
        "start_time": "2022-04-07T16:42:35.524Z"
      },
      {
        "duration": 188,
        "start_time": "2022-04-07T16:42:40.246Z"
      },
      {
        "duration": 5,
        "start_time": "2022-04-07T16:42:42.768Z"
      },
      {
        "duration": 13,
        "start_time": "2022-04-07T16:42:46.674Z"
      },
      {
        "duration": 184,
        "start_time": "2022-04-07T16:42:48.247Z"
      },
      {
        "duration": 12,
        "start_time": "2022-04-07T16:42:51.851Z"
      },
      {
        "duration": 22,
        "start_time": "2022-04-07T16:43:21.219Z"
      },
      {
        "duration": 12,
        "start_time": "2022-04-07T16:43:25.947Z"
      },
      {
        "duration": 93,
        "start_time": "2022-04-07T16:43:51.281Z"
      },
      {
        "duration": 41,
        "start_time": "2022-04-07T16:43:52.193Z"
      },
      {
        "duration": 10,
        "start_time": "2022-04-07T16:43:55.663Z"
      },
      {
        "duration": 4,
        "start_time": "2022-04-07T16:43:59.468Z"
      },
      {
        "duration": 4,
        "start_time": "2022-04-07T16:44:00.915Z"
      },
      {
        "duration": 26,
        "start_time": "2022-04-07T16:44:03.027Z"
      },
      {
        "duration": 6,
        "start_time": "2022-04-07T16:44:05.361Z"
      },
      {
        "duration": 25,
        "start_time": "2022-04-07T16:44:07.405Z"
      },
      {
        "duration": 11,
        "start_time": "2022-04-07T16:44:10.156Z"
      },
      {
        "duration": 8,
        "start_time": "2022-04-07T16:44:12.751Z"
      },
      {
        "duration": 439,
        "start_time": "2022-04-07T16:44:16.273Z"
      },
      {
        "duration": 205,
        "start_time": "2022-04-07T16:44:20.277Z"
      },
      {
        "duration": 193,
        "start_time": "2022-04-07T16:44:23.299Z"
      },
      {
        "duration": 167,
        "start_time": "2022-04-07T16:45:15.395Z"
      },
      {
        "duration": 172,
        "start_time": "2022-04-07T16:45:18.001Z"
      },
      {
        "duration": 201,
        "start_time": "2022-04-07T16:45:21.277Z"
      },
      {
        "duration": 6,
        "start_time": "2022-04-07T16:45:23.564Z"
      },
      {
        "duration": 19,
        "start_time": "2022-04-07T16:45:30.928Z"
      },
      {
        "duration": 196,
        "start_time": "2022-04-07T16:45:33.725Z"
      },
      {
        "duration": 13,
        "start_time": "2022-04-07T16:45:37.448Z"
      },
      {
        "duration": 899,
        "start_time": "2022-04-07T16:46:00.021Z"
      },
      {
        "duration": 2347,
        "start_time": "2022-04-07T16:46:32.916Z"
      },
      {
        "duration": 858,
        "start_time": "2022-04-07T16:48:27.319Z"
      },
      {
        "duration": 820,
        "start_time": "2022-04-07T16:50:30.165Z"
      },
      {
        "duration": 1328,
        "start_time": "2022-04-07T16:50:46.959Z"
      },
      {
        "duration": 1953,
        "start_time": "2022-04-07T16:50:55.563Z"
      },
      {
        "duration": 1966,
        "start_time": "2022-04-07T16:52:16.528Z"
      },
      {
        "duration": 31,
        "start_time": "2022-04-07T16:55:47.573Z"
      },
      {
        "duration": 322,
        "start_time": "2022-04-07T16:55:53.224Z"
      },
      {
        "duration": 10,
        "start_time": "2022-04-07T16:56:09.225Z"
      },
      {
        "duration": 12,
        "start_time": "2022-04-07T16:56:21.557Z"
      },
      {
        "duration": 719,
        "start_time": "2022-04-07T16:57:11.449Z"
      },
      {
        "duration": 13,
        "start_time": "2022-04-07T16:58:13.557Z"
      },
      {
        "duration": 997,
        "start_time": "2022-04-07T16:58:30.234Z"
      },
      {
        "duration": 1788,
        "start_time": "2022-04-07T16:59:03.246Z"
      },
      {
        "duration": 1370,
        "start_time": "2022-04-07T16:59:14.105Z"
      },
      {
        "duration": 12,
        "start_time": "2022-04-07T17:06:03.510Z"
      },
      {
        "duration": 975,
        "start_time": "2022-04-07T17:06:10.417Z"
      }
    ],
    "kernelspec": {
      "display_name": "Python 3 (ipykernel)",
      "language": "python",
      "name": "python3"
    },
    "language_info": {
      "codemirror_mode": {
        "name": "ipython",
        "version": 3
      },
      "file_extension": ".py",
      "mimetype": "text/x-python",
      "name": "python",
      "nbconvert_exporter": "python",
      "pygments_lexer": "ipython3",
      "version": "3.9.7"
    },
    "toc": {
      "base_numbering": 1,
      "nav_menu": {},
      "number_sections": true,
      "sideBar": true,
      "skip_h1_title": true,
      "title_cell": "Содержание",
      "title_sidebar": "Contents",
      "toc_cell": true,
      "toc_position": {},
      "toc_section_display": true,
      "toc_window_display": false
    },
    "colab": {
      "provenance": []
    }
  },
  "nbformat": 4,
  "nbformat_minor": 0
}